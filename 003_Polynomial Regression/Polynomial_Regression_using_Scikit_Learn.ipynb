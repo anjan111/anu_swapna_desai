{
 "cells": [
  {
   "cell_type": "code",
   "execution_count": 1,
   "metadata": {},
   "outputs": [
    {
     "data": {
      "text/html": [
       "<div>\n",
       "<style scoped>\n",
       "    .dataframe tbody tr th:only-of-type {\n",
       "        vertical-align: middle;\n",
       "    }\n",
       "\n",
       "    .dataframe tbody tr th {\n",
       "        vertical-align: top;\n",
       "    }\n",
       "\n",
       "    .dataframe thead th {\n",
       "        text-align: right;\n",
       "    }\n",
       "</style>\n",
       "<table border=\"1\" class=\"dataframe\">\n",
       "  <thead>\n",
       "    <tr style=\"text-align: right;\">\n",
       "      <th></th>\n",
       "      <th>X</th>\n",
       "      <th>y</th>\n",
       "    </tr>\n",
       "  </thead>\n",
       "  <tbody>\n",
       "    <tr>\n",
       "      <th>0</th>\n",
       "      <td>10</td>\n",
       "      <td>138</td>\n",
       "    </tr>\n",
       "    <tr>\n",
       "      <th>1</th>\n",
       "      <td>11</td>\n",
       "      <td>138</td>\n",
       "    </tr>\n",
       "    <tr>\n",
       "      <th>2</th>\n",
       "      <td>12</td>\n",
       "      <td>138</td>\n",
       "    </tr>\n",
       "    <tr>\n",
       "      <th>3</th>\n",
       "      <td>13</td>\n",
       "      <td>139</td>\n",
       "    </tr>\n",
       "    <tr>\n",
       "      <th>4</th>\n",
       "      <td>14</td>\n",
       "      <td>139</td>\n",
       "    </tr>\n",
       "  </tbody>\n",
       "</table>\n",
       "</div>"
      ],
      "text/plain": [
       "   X     y\n",
       "0  10  138\n",
       "1  11  138\n",
       "2  12  138\n",
       "3  13  139\n",
       "4  14  139"
      ]
     },
     "execution_count": 1,
     "metadata": {},
     "output_type": "execute_result"
    }
   ],
   "source": [
    "# Import necessary libraries \n",
    "import pandas as pd \n",
    "import numpy as np \n",
    "import matplotlib.pyplot as plt \n",
    "\n",
    "# Import the Height Weight Dataset \n",
    "data = pd.read_csv('Height_Weight_Dataset.csv') \n",
    "data.head()"
   ]
  },
  {
   "cell_type": "code",
   "execution_count": 2,
   "metadata": {},
   "outputs": [],
   "source": [
    "#Store the data in the form of dependent and independent variables separately\n",
    "X = data.iloc[:, 0:1].values \n",
    "y = data.iloc[:, 1].values "
   ]
  },
  {
   "cell_type": "code",
   "execution_count": 3,
   "metadata": {},
   "outputs": [],
   "source": [
    "#Split the Dataset into Training and Test Dataset\n",
    "from sklearn.model_selection import train_test_split\n",
    "X_train, X_test, y_train, y_test = train_test_split(X, y, test_size=0.3, random_state=0)"
   ]
  },
  {
   "cell_type": "code",
   "execution_count": 5,
   "metadata": {},
   "outputs": [
    {
     "data": {
      "text/plain": [
       "LinearRegression(copy_X=True, fit_intercept=True, n_jobs=None,\n",
       "         normalize=False)"
      ]
     },
     "execution_count": 5,
     "metadata": {},
     "output_type": "execute_result"
    }
   ],
   "source": [
    "#Fit the Simple Linear Regression Model\n",
    "from sklearn.linear_model import LinearRegression\n",
    "LinReg = LinearRegression()\n",
    "LinReg.fit(X_train, y_train)"
   ]
  },
  {
   "cell_type": "code",
   "execution_count": 6,
   "metadata": {},
   "outputs": [
    {
     "data": {
      "image/png": "[encoded data removed]",
      "text/plain": [
       "<Figure size 432x288 with 1 Axes>"
      ]
     },
     "metadata": {
      "needs_background": "light"
     },
     "output_type": "display_data"
    }
   ],
   "source": [
    "# Visualise the Linear Regression Result\n",
    "plt.scatter(X_train, y_train, color = 'green') \n",
    "  \n",
    "plt.plot(X_train, LinReg.predict(X_train), color = 'blue') \n",
    "plt.title('Linear Regression') \n",
    "plt.xlabel('Age') \n",
    "plt.ylabel('Height') \n",
    "  \n",
    "plt.show() "
   ]
  },
  {
   "cell_type": "code",
   "execution_count": 8,
   "metadata": {},
   "outputs": [
    {
     "data": {
      "text/plain": [
       "array([[1.000e+00, 1.200e+01, 1.440e+02],\n",
       "       [1.000e+00, 5.000e+01, 2.500e+03],\n",
       "       [1.000e+00, 2.100e+01, 4.410e+02],\n",
       "       [1.000e+00, 1.300e+01, 1.690e+02],\n",
       "       [1.000e+00, 6.400e+01, 4.096e+03],\n",
       "       [1.000e+00, 5.500e+01, 3.025e+03],\n",
       "       [1.000e+00, 2.000e+01, 4.000e+02],\n",
       "       [1.000e+00, 5.100e+01, 2.601e+03],\n",
       "       [1.000e+00, 5.900e+01, 3.481e+03],\n",
       "       [1.000e+00, 6.300e+01, 3.969e+03],\n",
       "       [1.000e+00, 6.700e+01, 4.489e+03],\n",
       "       [1.000e+00, 4.200e+01, 1.764e+03],\n",
       "       [1.000e+00, 2.400e+01, 5.760e+02],\n",
       "       [1.000e+00, 7.800e+01, 6.084e+03],\n",
       "       [1.000e+00, 2.900e+01, 8.410e+02],\n",
       "       [1.000e+00, 3.900e+01, 1.521e+03],\n",
       "       [1.000e+00, 6.200e+01, 3.844e+03],\n",
       "       [1.000e+00, 4.500e+01, 2.025e+03],\n",
       "       [1.000e+00, 2.800e+01, 7.840e+02],\n",
       "       [1.000e+00, 1.000e+01, 1.000e+02],\n",
       "       [1.000e+00, 2.500e+01, 6.250e+02],\n",
       "       [1.000e+00, 1.500e+01, 2.250e+02],\n",
       "       [1.000e+00, 2.600e+01, 6.760e+02],\n",
       "       [1.000e+00, 3.000e+01, 9.000e+02],\n",
       "       [1.000e+00, 7.600e+01, 5.776e+03],\n",
       "       [1.000e+00, 1.800e+01, 3.240e+02],\n",
       "       [1.000e+00, 2.300e+01, 5.290e+02],\n",
       "       [1.000e+00, 3.500e+01, 1.225e+03],\n",
       "       [1.000e+00, 4.700e+01, 2.209e+03],\n",
       "       [1.000e+00, 2.700e+01, 7.290e+02],\n",
       "       [1.000e+00, 7.000e+01, 4.900e+03],\n",
       "       [1.000e+00, 5.600e+01, 3.136e+03],\n",
       "       [1.000e+00, 7.300e+01, 5.329e+03],\n",
       "       [1.000e+00, 4.900e+01, 2.401e+03],\n",
       "       [1.000e+00, 4.800e+01, 2.304e+03],\n",
       "       [1.000e+00, 1.100e+01, 1.210e+02],\n",
       "       [1.000e+00, 6.800e+01, 4.624e+03],\n",
       "       [1.000e+00, 2.200e+01, 4.840e+02],\n",
       "       [1.000e+00, 7.100e+01, 5.041e+03],\n",
       "       [1.000e+00, 3.400e+01, 1.156e+03],\n",
       "       [1.000e+00, 1.600e+01, 2.560e+02],\n",
       "       [1.000e+00, 3.300e+01, 1.089e+03],\n",
       "       [1.000e+00, 4.600e+01, 2.116e+03],\n",
       "       [1.000e+00, 3.100e+01, 9.610e+02],\n",
       "       [1.000e+00, 1.900e+01, 3.610e+02],\n",
       "       [1.000e+00, 7.700e+01, 5.929e+03],\n",
       "       [1.000e+00, 7.400e+01, 5.476e+03],\n",
       "       [1.000e+00, 5.700e+01, 3.249e+03],\n",
       "       [1.000e+00, 5.400e+01, 2.916e+03]])"
      ]
     },
     "execution_count": 8,
     "metadata": {},
     "output_type": "execute_result"
    }
   ],
   "source": [
    "# Add the polynomial term to the equation/model\n",
    "from sklearn.preprocessing import PolynomialFeatures \n",
    "  \n",
    "polynom = PolynomialFeatures(degree = 2) \n",
    "X_polynom = polynom.fit_transform(X_train) \n",
    "  \n",
    "X_polynom"
   ]
  },
  {
   "cell_type": "code",
   "execution_count": 9,
   "metadata": {},
   "outputs": [
    {
     "data": {
      "text/plain": [
       "LinearRegression(copy_X=True, fit_intercept=True, n_jobs=None,\n",
       "         normalize=False)"
      ]
     },
     "execution_count": 9,
     "metadata": {},
     "output_type": "execute_result"
    }
   ],
   "source": [
    "#Fit the Polynomial Regression Model \n",
    "PolyReg = LinearRegression() \n",
    "PolyReg.fit(X_polynom, y_train) "
   ]
  },
  {
   "cell_type": "code",
   "execution_count": 13,
   "metadata": {},
   "outputs": [
    {
     "data": {
      "image/png": "[encoded data removed]",
      "text/plain": [
       "<Figure size 432x288 with 1 Axes>"
      ]
     },
     "metadata": {
      "needs_background": "light"
     },
     "output_type": "display_data"
    }
   ],
   "source": [
    "# Visualise the Polynomial Regression Results \n",
    "plt.scatter(X_train, y_train, color = 'green') \n",
    "  \n",
    "plt.plot(X_train, PolyReg.predict(polynom.fit_transform(X_train)), color = 'blue') \n",
    "plt.title('Polynomial Regression') \n",
    "plt.xlabel('Age') \n",
    "plt.ylabel('Height') \n",
    "  \n",
    "plt.show() "
   ]
  },
  {
   "cell_type": "code",
   "execution_count": 10,
   "metadata": {},
   "outputs": [
    {
     "name": "stdout",
     "output_type": "stream",
     "text": [
      "('R-Square Error associated with Simple Linear Regression:', 0.8727873738671587)\n"
     ]
    }
   ],
   "source": [
    "#Predicted Height from test dataset w.r.t Simple Linear Regression\n",
    "y_predict_slr = LinReg.predict(X_test)\n",
    "\n",
    "#Model Evaluation using R-Square for Simple Linear Regression\n",
    "from sklearn import metrics\n",
    "r_square = metrics.r2_score(y_test, y_predict_slr)\n",
    "print('R-Square Error associated with Simple Linear Regression:', r_square)"
   ]
  },
  {
   "cell_type": "code",
   "execution_count": 11,
   "metadata": {},
   "outputs": [
    {
     "name": "stdout",
     "output_type": "stream",
     "text": [
      "('R-Square Error associated with Polynomial Regression is:', 0.9892511710983519)\n"
     ]
    }
   ],
   "source": [
    "#Predicted Height from test dataset w.r.t Polynomial Regression\n",
    "y_predict_pr = PolyReg.predict(polynom.fit_transform(X_test))\n",
    "\n",
    "#Model Evaluation using R-Square for Polynomial Regression\n",
    "from sklearn import metrics\n",
    "r_square = metrics.r2_score(y_test, y_predict_pr)\n",
    "print('R-Square Error associated with Polynomial Regression is:', r_square)"
   ]
  },
  {
   "cell_type": "code",
   "execution_count": 12,
   "metadata": {},
   "outputs": [
    {
     "data": {
      "text/plain": [
       "array([168.52966207])"
      ]
     },
     "execution_count": 12,
     "metadata": {},
     "output_type": "execute_result"
    }
   ],
   "source": [
    "# Predicting Height based on Age using Linear Regression \n",
    "LinReg.predict([[53]]) "
   ]
  },
  {
   "cell_type": "code",
   "execution_count": 13,
   "metadata": {},
   "outputs": [
    {
     "data": {
      "text/plain": [
       "array([162.81769144])"
      ]
     },
     "execution_count": 13,
     "metadata": {},
     "output_type": "execute_result"
    }
   ],
   "source": [
    "# Predicting Height based on Age using Polynomial Regression \n",
    "PolyReg.predict(polynom.fit_transform([[53]])) "
   ]
  },
  {
   "cell_type": "code",
   "execution_count": null,
   "metadata": {},
   "outputs": [],
   "source": []
  }
 ],
 "metadata": {
  "kernelspec": {
   "display_name": "Python 2",
   "language": "python",
   "name": "python2"
  },
  "language_info": {
   "codemirror_mode": {
    "name": "ipython",
    "version": 2
   },
   "file_extension": ".py",
   "mimetype": "text/x-python",
   "name": "python",
   "nbconvert_exporter": "python",
   "pygments_lexer": "ipython2",
   "version": "2.7.16"
  }
 },
 "nbformat": 4,
 "nbformat_minor": 2
}
