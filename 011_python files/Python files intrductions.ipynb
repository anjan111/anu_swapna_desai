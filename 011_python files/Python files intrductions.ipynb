{
 "cells": [
  {
   "cell_type": "markdown",
   "metadata": {},
   "source": [
    "#### file\n",
    "\n",
    "-->> Collection of the related data\n",
    "\n",
    "####  types \n",
    "\n",
    "1. Text file\n",
    "\n",
    "---->>> Collection of the alpha numarical data\n",
    "\n",
    "---->>> easy to write & read \n",
    "\n",
    "---->>> .txt / .doc / .ppt / .pdf , .csv / .excel\n",
    "\n",
    "2. Binary file\n",
    "\n",
    "--->>  Collection of 0 & 1\n",
    "\n",
    "--->> Its not easy to write & read\n",
    "\n",
    "\n",
    "#### File operations\n",
    "\n",
    "--->> create a file \n",
    "\n",
    "--->> Opening a file \n",
    "\n",
    "--->> closing a  file\n",
    "\n",
    "--->> writing into a file \n",
    "\n",
    "--->> reading the data from file\n",
    "\n",
    "#### file handling  with python\n",
    "\n",
    "--->>> we are doing the file operations\n",
    "\n",
    "--->>  FILE  --->> is a pre defined class\n",
    "\n",
    "--->> with in FILE we have all file handling methods \n",
    "\n",
    "--->> file_object can be create open function\n",
    "\n",
    "        1. close()\n",
    "        \n",
    "        2. write()\n",
    "        \n",
    "        3. read()\n",
    "        \n",
    "        4. readline()\n",
    "        \n",
    "        5. readlines()\n",
    "        \n",
    "        6. seek()\n",
    "        \n",
    "        7. tell()\n",
    "        \n",
    "--->>> open(\"filename\",\"mode\")\n",
    "\n",
    "--->> mode\n",
    "\n",
    "1. write\n",
    "\n",
    "    --->> file is not existed then file can be created\n",
    "    \n",
    "    --->> file is existed with some data then data can lost and opened freshly\n",
    "    \n",
    "    w -->> we can use only write method\n",
    "    \n",
    "    w+ -->> we can use read methods & write methods \n",
    "\n",
    "\n",
    "2. read\n",
    "\n",
    "        -->> file is not existed then its error\n",
    "        \n",
    "        -->> file is existed with some data , the data can safe\n",
    "\n",
    "        r --->> only for read methods\n",
    "        \n",
    "        r+ -->> both read + write methods \n",
    "\n",
    "\n",
    "\n",
    "3. append\n",
    "\n",
    "    --->> file is not existed then file can be created\n",
    "    \n",
    "    --->> file is existed with some data then data can safe and opened \n",
    "    \n",
    "    a -->> we can use only write method\n",
    "    \n",
    "    a+ -->> we can use read methods & write methods "
   ]
  },
  {
   "cell_type": "code",
   "execution_count": 1,
   "metadata": {},
   "outputs": [
    {
     "name": "stdout",
     "output_type": "stream",
     "text": [
      "enter some data : \"anjan kumar \"\n"
     ]
    }
   ],
   "source": [
    "fo = open(\"sample.txt\",\"w\")# it can create \n",
    "data = input(\"enter some data : \")\n",
    "fo.write(data)\n",
    "fo.close()"
   ]
  },
  {
   "cell_type": "code",
   "execution_count": 2,
   "metadata": {},
   "outputs": [
    {
     "name": "stdout",
     "output_type": "stream",
     "text": [
      "enter some data : \"python file handling\"\n"
     ]
    }
   ],
   "source": [
    "fo = open(\"sample1.txt\",\"w+\")# it can create \n",
    "data = input(\"enter some data : \")\n",
    "fo.write(data)\n",
    "fo.close()"
   ]
  },
  {
   "cell_type": "code",
   "execution_count": 3,
   "metadata": {},
   "outputs": [
    {
     "name": "stdout",
     "output_type": "stream",
     "text": [
      "enter some data : \"new data\"\n"
     ]
    }
   ],
   "source": [
    "fo = open(\"sample.txt\",\"w\")# file already existed with some data\n",
    "data = input(\"enter some data : \")\n",
    "fo.write(data)\n",
    "fo.close()"
   ]
  },
  {
   "cell_type": "code",
   "execution_count": 4,
   "metadata": {},
   "outputs": [
    {
     "name": "stdout",
     "output_type": "stream",
     "text": [
      "enter some data : \"1234%\"\n"
     ]
    }
   ],
   "source": [
    "fo = open(\"sample1.txt\",\"w+\")# file already existed with some data\n",
    "data = input(\"enter some data : \")\n",
    "fo.write(data)\n",
    "fo.close()"
   ]
  },
  {
   "cell_type": "code",
   "execution_count": 5,
   "metadata": {},
   "outputs": [
    {
     "name": "stdout",
     "output_type": "stream",
     "text": [
      "enter some data : \"1234\"\n"
     ]
    },
    {
     "ename": "IOError",
     "evalue": "File not open for reading",
     "output_type": "error",
     "traceback": [
      "\u001b[1;31m---------------------------------------------------------------------------\u001b[0m",
      "\u001b[1;31mIOError\u001b[0m                                   Traceback (most recent call last)",
      "\u001b[1;32m<ipython-input-5-167bf556f6b4>\u001b[0m in \u001b[0;36m<module>\u001b[1;34m()\u001b[0m\n\u001b[0;32m      3\u001b[0m \u001b[0mfo\u001b[0m\u001b[1;33m.\u001b[0m\u001b[0mwrite\u001b[0m\u001b[1;33m(\u001b[0m\u001b[0mdata\u001b[0m\u001b[1;33m)\u001b[0m\u001b[1;33m\u001b[0m\u001b[0m\n\u001b[0;32m      4\u001b[0m \u001b[0mfo\u001b[0m\u001b[1;33m.\u001b[0m\u001b[0mseek\u001b[0m\u001b[1;33m(\u001b[0m\u001b[1;36m0\u001b[0m\u001b[1;33m,\u001b[0m\u001b[1;36m0\u001b[0m\u001b[1;33m)\u001b[0m\u001b[1;33m\u001b[0m\u001b[0m\n\u001b[1;32m----> 5\u001b[1;33m \u001b[1;32mprint\u001b[0m \u001b[0mfo\u001b[0m\u001b[1;33m.\u001b[0m\u001b[0mread\u001b[0m\u001b[1;33m(\u001b[0m\u001b[1;33m)\u001b[0m\u001b[1;33m\u001b[0m\u001b[0m\n\u001b[0m\u001b[0;32m      6\u001b[0m \u001b[0mfo\u001b[0m\u001b[1;33m.\u001b[0m\u001b[0mclose\u001b[0m\u001b[1;33m(\u001b[0m\u001b[1;33m)\u001b[0m\u001b[1;33m\u001b[0m\u001b[0m\n",
      "\u001b[1;31mIOError\u001b[0m: File not open for reading"
     ]
    }
   ],
   "source": [
    "fo = open(\"sample.txt\",\"w\")# file already existed with some data\n",
    "data = input(\"enter some data : \")\n",
    "fo.write(data)\n",
    "fo.seek(0,0) \n",
    "print fo.read()# not supported \n",
    "fo.close()"
   ]
  },
  {
   "cell_type": "code",
   "execution_count": 6,
   "metadata": {},
   "outputs": [
    {
     "name": "stdout",
     "output_type": "stream",
     "text": [
      "enter some data : \"123456\"\n",
      "123456\n"
     ]
    }
   ],
   "source": [
    "fo = open(\"sample.txt\",\"w+\")# file already existed with some data\n",
    "data = input(\"enter some data : \")\n",
    "fo.write(data)\n",
    "fo.seek(0,0) #  0 no position moving  ,  ( 0 starting / 1 current / 2 ending )\n",
    "print fo.read()#  supported \n",
    "fo.close()"
   ]
  },
  {
   "cell_type": "code",
   "execution_count": 10,
   "metadata": {},
   "outputs": [
    {
     "name": "stdout",
     "output_type": "stream",
     "text": [
      "start cursor loc :  0\n",
      "enter some data : \"anjankumar\"\n",
      "after writing  cursor loc :  10\n",
      "start cursor loc :  0\n",
      "after seeking 5 positon from starting cursor loc :  5\n",
      "after seeking -2 positon from current  cursor loc :  3\n",
      "after seeking 4 positon from current  cursor loc :  7\n",
      "after seeking 0 positon from end  cursor loc :  10\n",
      "after seeking -4 positon from end  cursor loc :  6\n"
     ]
    }
   ],
   "source": [
    "# seek method\n",
    "'''\n",
    "fo.seek(+ve / -ve / 0, 0/1/2)\n",
    "\n",
    "0 --->> file position at starting \n",
    "1 --->> file position at current loc\n",
    "2 -->> file position at end of the file \n",
    "'''\n",
    "fo =  open(\"new.txt\",\"w\")\n",
    "print \"start cursor loc : \" ,fo.tell()\n",
    "data = input(\"enter some data : \")# 10 char\n",
    "fo.write(data)\n",
    "print \"after writing  cursor loc : \", fo.tell() #10\n",
    "fo.seek(0,0)# 0\n",
    "print \"start cursor loc : \" ,fo.tell()\n",
    "fo.seek(5,0)\n",
    "print \"after seeking 5 positon from starting cursor loc : \", fo.tell()# 5\n",
    "fo.seek(-2,1) # 3\n",
    "print \"after seeking -2 positon from current  cursor loc : \" ,fo.tell()# 3\n",
    "fo.seek(4,1) # 7\n",
    "print \"after seeking 4 positon from current  cursor loc : \", fo.tell()# 7\n",
    "fo.seek(0,2) # 7\n",
    "print \"after seeking 0 positon from end  cursor loc : \" ,fo.tell()# 10\n",
    "fo.seek(-4,2) # 10\n",
    "print \"after seeking -4 positon from end  cursor loc : \" ,fo.tell()# 6\n",
    "fo.close()"
   ]
  },
  {
   "cell_type": "code",
   "execution_count": 1,
   "metadata": {},
   "outputs": [
    {
     "name": "stdout",
     "output_type": "stream",
     "text": [
      "enter data : \"anjan\"\n"
     ]
    }
   ],
   "source": [
    "# append # a,   a+\n",
    "\n",
    "fo =open(\"sample4.txt\",\"a\")# file can create \n",
    "data = input(\"enter data : \")\n",
    "fo.write(data)\n",
    "fo.close()"
   ]
  },
  {
   "cell_type": "code",
   "execution_count": 2,
   "metadata": {},
   "outputs": [
    {
     "name": "stdout",
     "output_type": "stream",
     "text": [
      "enter data : \" kumar\"\n"
     ]
    }
   ],
   "source": [
    "# append # a,   a+\n",
    "\n",
    "fo =open(\"sample4.txt\",\"a\")# file is already existed data can safe\n",
    "data = input(\"enter data : \")\n",
    "fo.write(data)\n",
    "fo.close()"
   ]
  },
  {
   "cell_type": "code",
   "execution_count": 3,
   "metadata": {},
   "outputs": [
    {
     "name": "stdout",
     "output_type": "stream",
     "text": [
      "enter data : \"1234\"\n"
     ]
    },
    {
     "ename": "IOError",
     "evalue": "File not open for reading",
     "output_type": "error",
     "traceback": [
      "\u001b[1;31m---------------------------------------------------------------------------\u001b[0m",
      "\u001b[1;31mIOError\u001b[0m                                   Traceback (most recent call last)",
      "\u001b[1;32m<ipython-input-3-12df0abd717a>\u001b[0m in \u001b[0;36m<module>\u001b[1;34m()\u001b[0m\n\u001b[0;32m      3\u001b[0m \u001b[0mfo\u001b[0m\u001b[1;33m.\u001b[0m\u001b[0mwrite\u001b[0m\u001b[1;33m(\u001b[0m\u001b[0mdata\u001b[0m\u001b[1;33m)\u001b[0m\u001b[1;33m\u001b[0m\u001b[0m\n\u001b[0;32m      4\u001b[0m \u001b[0mfo\u001b[0m\u001b[1;33m.\u001b[0m\u001b[0mseek\u001b[0m\u001b[1;33m(\u001b[0m\u001b[1;36m0\u001b[0m\u001b[1;33m,\u001b[0m\u001b[1;36m0\u001b[0m\u001b[1;33m)\u001b[0m\u001b[1;33m\u001b[0m\u001b[0m\n\u001b[1;32m----> 5\u001b[1;33m \u001b[1;32mprint\u001b[0m \u001b[0mfo\u001b[0m\u001b[1;33m.\u001b[0m\u001b[0mread\u001b[0m\u001b[1;33m(\u001b[0m\u001b[1;33m)\u001b[0m\u001b[1;33m\u001b[0m\u001b[0m\n\u001b[0m\u001b[0;32m      6\u001b[0m \u001b[0mfo\u001b[0m\u001b[1;33m.\u001b[0m\u001b[0mclose\u001b[0m\u001b[1;33m(\u001b[0m\u001b[1;33m)\u001b[0m\u001b[1;33m\u001b[0m\u001b[0m\n",
      "\u001b[1;31mIOError\u001b[0m: File not open for reading"
     ]
    }
   ],
   "source": [
    "fo =open(\"sample4.txt\",\"a\")# file is already existed data can safe\n",
    "data = input(\"enter data : \")\n",
    "fo.write(data)\n",
    "fo.seek(0,0)\n",
    "print fo.read()# its not supported \n",
    "fo.close()"
   ]
  },
  {
   "cell_type": "code",
   "execution_count": 4,
   "metadata": {},
   "outputs": [
    {
     "name": "stdout",
     "output_type": "stream",
     "text": [
      "enter data : \"123456\"\n",
      "anjan kumar1234123456\n"
     ]
    }
   ],
   "source": [
    "fo =open(\"sample4.txt\",\"a+\")# file is already existed data can safe\n",
    "data = input(\"enter data : \")\n",
    "fo.write(data)\n",
    "fo.seek(0,0)\n",
    "print fo.read()\n",
    "fo.close()"
   ]
  },
  {
   "cell_type": "code",
   "execution_count": 8,
   "metadata": {},
   "outputs": [
    {
     "ename": "IOError",
     "evalue": "[Errno 2] No such file or directory: 'sample5.txt'",
     "output_type": "error",
     "traceback": [
      "\u001b[1;31m---------------------------------------------------------------------------\u001b[0m",
      "\u001b[1;31mIOError\u001b[0m                                   Traceback (most recent call last)",
      "\u001b[1;32m<ipython-input-8-101459f61fba>\u001b[0m in \u001b[0;36m<module>\u001b[1;34m()\u001b[0m\n\u001b[1;32m----> 1\u001b[1;33m \u001b[0mfo\u001b[0m \u001b[1;33m=\u001b[0m \u001b[0mopen\u001b[0m\u001b[1;33m(\u001b[0m\u001b[1;34m\"sample5.txt\"\u001b[0m\u001b[1;33m,\u001b[0m\u001b[1;34m\"r\"\u001b[0m\u001b[1;33m)\u001b[0m\u001b[1;33m\u001b[0m\u001b[0m\n\u001b[0m\u001b[0;32m      2\u001b[0m \u001b[0mfo\u001b[0m\u001b[1;33m.\u001b[0m\u001b[0mclose\u001b[0m\u001b[1;33m(\u001b[0m\u001b[1;33m)\u001b[0m\u001b[1;33m\u001b[0m\u001b[0m\n",
      "\u001b[1;31mIOError\u001b[0m: [Errno 2] No such file or directory: 'sample5.txt'"
     ]
    }
   ],
   "source": [
    "fo = open(\"sample5.txt\",\"r\")\n",
    "fo.close()"
   ]
  },
  {
   "cell_type": "code",
   "execution_count": 9,
   "metadata": {},
   "outputs": [
    {
     "ename": "IOError",
     "evalue": "[Errno 2] No such file or directory: 'sample5.txt'",
     "output_type": "error",
     "traceback": [
      "\u001b[1;31m---------------------------------------------------------------------------\u001b[0m",
      "\u001b[1;31mIOError\u001b[0m                                   Traceback (most recent call last)",
      "\u001b[1;32m<ipython-input-9-7afe253206e4>\u001b[0m in \u001b[0;36m<module>\u001b[1;34m()\u001b[0m\n\u001b[1;32m----> 1\u001b[1;33m \u001b[0mfo\u001b[0m \u001b[1;33m=\u001b[0m \u001b[0mopen\u001b[0m\u001b[1;33m(\u001b[0m\u001b[1;34m\"sample5.txt\"\u001b[0m\u001b[1;33m,\u001b[0m\u001b[1;34m\"r+\"\u001b[0m\u001b[1;33m)\u001b[0m\u001b[1;33m\u001b[0m\u001b[0m\n\u001b[0m\u001b[0;32m      2\u001b[0m \u001b[0mfo\u001b[0m\u001b[1;33m.\u001b[0m\u001b[0mclose\u001b[0m\u001b[1;33m(\u001b[0m\u001b[1;33m)\u001b[0m\u001b[1;33m\u001b[0m\u001b[0m\n",
      "\u001b[1;31mIOError\u001b[0m: [Errno 2] No such file or directory: 'sample5.txt'"
     ]
    }
   ],
   "source": [
    "fo = open(\"sample5.txt\",\"r+\")\n",
    "fo.close()"
   ]
  },
  {
   "cell_type": "code",
   "execution_count": 10,
   "metadata": {},
   "outputs": [
    {
     "name": "stdout",
     "output_type": "stream",
     "text": [
      "anjan kumar1234123456\n"
     ]
    }
   ],
   "source": [
    "fo = open(\"sample4.txt\",\"r\")\n",
    "print fo.read()\n",
    "fo.close()"
   ]
  },
  {
   "cell_type": "code",
   "execution_count": 11,
   "metadata": {},
   "outputs": [
    {
     "name": "stdout",
     "output_type": "stream",
     "text": [
      "anjan kumar1234123456\n"
     ]
    },
    {
     "ename": "IOError",
     "evalue": "File not open for writing",
     "output_type": "error",
     "traceback": [
      "\u001b[1;31m---------------------------------------------------------------------------\u001b[0m",
      "\u001b[1;31mIOError\u001b[0m                                   Traceback (most recent call last)",
      "\u001b[1;32m<ipython-input-11-a658d04765f2>\u001b[0m in \u001b[0;36m<module>\u001b[1;34m()\u001b[0m\n\u001b[0;32m      1\u001b[0m \u001b[0mfo\u001b[0m \u001b[1;33m=\u001b[0m \u001b[0mopen\u001b[0m\u001b[1;33m(\u001b[0m\u001b[1;34m\"sample4.txt\"\u001b[0m\u001b[1;33m,\u001b[0m\u001b[1;34m\"r\"\u001b[0m\u001b[1;33m)\u001b[0m\u001b[1;33m\u001b[0m\u001b[0m\n\u001b[0;32m      2\u001b[0m \u001b[1;32mprint\u001b[0m \u001b[0mfo\u001b[0m\u001b[1;33m.\u001b[0m\u001b[0mread\u001b[0m\u001b[1;33m(\u001b[0m\u001b[1;33m)\u001b[0m\u001b[1;33m\u001b[0m\u001b[0m\n\u001b[1;32m----> 3\u001b[1;33m \u001b[0mfo\u001b[0m\u001b[1;33m.\u001b[0m\u001b[0mwrite\u001b[0m\u001b[1;33m(\u001b[0m\u001b[1;34m\"hello\"\u001b[0m\u001b[1;33m)\u001b[0m\u001b[1;33m\u001b[0m\u001b[0m\n\u001b[0m\u001b[0;32m      4\u001b[0m \u001b[0mfo\u001b[0m\u001b[1;33m.\u001b[0m\u001b[0mclose\u001b[0m\u001b[1;33m(\u001b[0m\u001b[1;33m)\u001b[0m\u001b[1;33m\u001b[0m\u001b[0m\n",
      "\u001b[1;31mIOError\u001b[0m: File not open for writing"
     ]
    }
   ],
   "source": [
    "fo = open(\"sample4.txt\",\"r\")\n",
    "print fo.read()\n",
    "fo.write(\"hello\")\n",
    "fo.close()"
   ]
  },
  {
   "cell_type": "code",
   "execution_count": 17,
   "metadata": {},
   "outputs": [
    {
     "name": "stdout",
     "output_type": "stream",
     "text": [
      " kumar1234123456\u0007\u0000\u0000\u0000jsdlinkY\u0000\u0000\u0000s\u0002\u0000\u0000\u0000\u0000\u0010N(\u0011\u0000\u0000\u0000R\u001d",
      "\u0000\u0000\u0000R\u0018\u0000\u0000\u0000R\u0000\u0000\u0000\u0000R\u0001\u0000\u0000\u0000R\u0002\u0000\u0000\u0000t\u000b",
      "\u0000\u0000\u0000widget_coreR\u0003\u0000\u0000\u0000t\t\u0000\u0000\u0000traitletsR\u0004\u0000\u0000\u0000R\u0005\u0000\u0000\u0000R\u0006\u0000\u0000\u0000R\u0007\u0000\u0000\u0000R\b\u0000\u0000\u0000R\u001f\u0000\u0000\u0000R+\u0000\u0000\u0000R,\u0000\u0000\u0000R.\u0000\u0000\u0000(\u0000\u0000\u0000\u0000(\u0000\u0000\u0000\u0000(\u0000\u0000\u0000\u0000s3\u0000\u0000\u0000Lib\\site-packages\\ipywidgets\\widgets\\widget_link.pyt\b\u0000\u0000\u0000<module>\u0007\u0000\u0000\u0000s\u0014\u0000\u0000\u0000\u0006\u0002\u001c",
      "\u0001\u0010\u0002\"\u0003\u0016\u0016\u0006\u0001\u0016\u0015\t\u0013\u0006\u0001\u0016\n",
      "e changes between widgets on the javascript side.\n",
      "i\u0001\u0000\u0000\u0000(\u0003\u0000\u0000\u0000t\u0006\u0000\u0000\u0000Widgett\b\u0000\u0000\u0000registert\u0014\u0000\u0000\u0000widget_serialization(\u0001\u0000\u0000\u0000t\n",
      "\u0000\u0000\u0000CoreWidgeti����(\u0004\u0000\u0000\u0000t\u0007\u0000\u0000\u0000Unicodet\u0005\u0000\u0000\u0000Tuplet\b\u0000\u0000\u0000Instancet\n",
      "\u0000\u0000\u0000TraitErrort\u0010\u0000\u0000\u0000WidgetTraitTuplec\u0000\u0000\u0000\u0000\u0000\u0000\u0000\u0000\u0001\u0000\u0000\u0000B\u0000\u0000\u0000s&\u0000\u0000\u0000e\u0000\u0000Z\u0001\u0000d\u0000\u0000Z\u0002\u0000d\u0001\u0000Z\u0003\u0000d\u0002\u0000�\u0000\u0000Z\u0004\u0000d\u0003\u0000�\u0000\u0000Z\u0005\u0000RS(\u0004\u0000\u0000\u0000s<\u0000\u0000\u0000Traitlet for validating a single (Widget, 'trait_name') pairs\u001d",
      "\u0000\u0000\u0000A (Widget, 'trait_name') pairc\u0001\u0000\u0000\u0000\u0002\u0000\u0000\u0000\u0004\u0000\u0000\u0000K\u0000\u0000\u0000s)\u0000\u0000\u0000t\u0000\u0000t\u0001\u0000|\u0000\u0000�\u0002\u0000j\u0002\u0000t\u0003\u0000t\u0004\u0000�\u0001\u0000t\u0005\u0000�\u0000\u0000|\u0001\u0000�\u0002\u0000\u0001d\u0000\u0000S(\u0001\u0000\u0000\u0000N(\u0006\u0000\u0000\u0000t\u0005\u0000\u0000\u0000superR\b\u0000\u0000\u0000t\b\u0000\u0000\u0000__init__R\u0006\u0000\u0000\u0000R\u0000\u0000\u0000\u0000R\u0004\u0000\u0000\u0000(\u0002\u0000\u0000\u0000t\u0004\u0000\u0000\u0000selft\u0006\u0000\u0000\u0000kwargs(\u0000\u0000\u0000\u0000(\u0000\u0000\u0000\u0000s3\u0000\u0000\u0000Lib\\site-packages\\ipywidgets\\widgets\\widget_link.pyR\n",
      "\u0000\u0000\u0000\u0014\u0000\u0000\u0000s\u0002\u0000\u0000\u0000\u0000\u0001c\u0003\u0000\u0000\u0000\u0007\u0000\u0000\u0000\u0003\u0000\u0000\u0000C\u0000\u0000\u0000s�\u0000\u0000\u0000t\u0000\u0000t\u0001\u0000|\u0000\u0000�\u0002\u0000j\u0002\u0000|\u0001\u0000|\u0002\u0000�\u0002\u0000}\u0002\u0000|\u0002\u0000\\\u0002\u0000}\u0003\u0000}\u0004\u0000|\u0003\u0000j\u0003\u0000�\u0000\u0000j\u0004\u0000|\u0004\u0000�\u0001\u0000}\u0005\u0000d\u0001\u0000|\u0003\u0000j\u0005\u0000j\u0006\u0000|\u0004\u0000f\u0002\u0000\u0016}\u0006\u0000|\u0005\u0000d\u0000\u0000k\b\u0000rq\u0000t\b\u0000d\u0002\u0000|\u0006\u0000\u0016�\u0001\u0000�\u0001\u0000n\"\u0000|\u0005\u0000j\t\u0000d\u0003\u0000�\u0001\u0000s�\u0000t\b\u0000d\u0004\u0000|\u0006\u0000\u0016�\u0001\u0000�\u0001\u0000n\u0000\u0000|\u0002\u0000S(\u0005\u0000\u0000\u0000Ns\u0005\u0000\u0000\u0000%s.%ss\u0011\u0000\u0000\u0000No such trait: %st\u0004\u0000\u0000\u0000syncs\u0013\u0000\u0000\u0000%s cannot be synced(\n",
      "\u0000\u0000\u0000R\t\u0000\u0000\u0000R\b\u0000\u0000\u0000t\u0011\u0000\u0000\u0000validate_elementst\u0006\u0000\u0000\u0000traitst\u0003\u0000\u0000\u0000gett\t\u0000\u0000\u0000__class__t\b\u0000\u0000\u0000__name__t\u0004\u0000\u0000\u0000Nonet\t\u0000\u0000\u0000TypeErrort\f",
      "\u0000\u0000\u0000get_metadata(\u0007\u0000\u0000\u0000R\u000b",
      "\u0000\u0000\u0000t\u0003\u0000\u0000\u0000objt\u0005\u0000\u0000\u0000valuet\u0006\u0000\u0000\u0000widgett\n",
      "\u0000\u0000\u0000trait_namet\u0005\u0000\u0000\u0000traitt\n",
      "\u0000\u0000\u0000trait_repr(\u0000\u0000\u0000\u0000(\u0000\u0000\u0000\u0000s3\u0000\u0000\u0000Lib\\site-packages\\ipywidgets\\widgets\\widget_link.pyR\u000e\u0000\u0000\u0000\u0017\u0000\u0000\u0000s\u0012\u0000\u0000\u0000\u0000\u0001\u001b\u0001\f",
      "\u0001\u0015\u0001\u0016\u0003\f",
      "\u0001\u0013\u0001\u000f\u0001\u0013\u0001(\u0006\u0000\u0000\u0000R\u0012\u0000\u0000\u0000t\n",
      "\u0000\u0000\u0000__module__t\u0007\u0000\u0000\u0000__doc__t\t\u0000\u0000\u0000info_textR\n",
      "\u0000\u0000\u0000R\u000e\u0000\u0000\u0000(\u0000\u0000\u0000\u0000(\u0000\u0000\u0000\u0000(\u0000\u0000\u0000\u0000s3\u0000\u0000\u0000Lib\\site-packages\\ipywidgets\\widgets\\widget_link.pyR\b\u0000\u0000\u0000\u000f\u0000\u0000\u0000s\b\u0000\u0000\u0000\u0006\u0001\u0006\u0002\u0006\u0002\t\u0003t\u0004\u0000\u0000\u0000Linkc\u0000\u0000\u0000\u0000\u0000\u0000\u0000\u0000\u0004\u0000\u0000\u0000B\u0000\u0000\u0000st\u0000\u0000\u0000e\u0000\u0000Z\u0001\u0000d\u0000\u0000Z\u0002\u0000e\u0003\u0000d\u0001\u0000�\u0001\u0000j\u0004\u0000d\u0002\u0000e\u0005\u0000�\u0000\u0001Z\u0006\u0000e\u0007\u0000d\u0003\u0000d\u0004\u0000�\u0000\u0001j\u0004\u0000d\u0002\u0000e\u0005\u0000e\b\u0000�\u0000\u0001Z\t\u0000e\u0007\u0000d\u0003\u0000d\u0005\u0000�\u0000\u0001j\u0004\u0000d\u0002\u0000e\u0005\u0000e\b\u0000�\u0000\u0001Z\n",
      "\u0000d\u0006\u0000�\u0000\u0000Z\u000b",
      "\u0000d\u0007\u0000�\u0000\u0000Z\f",
      "\u0000RS(\b\u0000\u0000\u0000s�\u0000\u0000\u0000Link Widget\n",
      "\n",
      "    source: a (Widget, 'trait_name') tuple for the source trait\n",
      "    target: a (Widget, 'trait_name') tuple that should be updated\n",
      "    t\t\u0000\u0000\u0000LinkModelR\r",
      "\u0000\u0000\u0000t\u0004\u0000\u0000\u0000helps&\u0000\u0000\u0000The target (widget, 'trait_name') pairs&\u0000\u0000\u0000The source (widget, 'trait_name') pairc\u0003\u0000\u0000\u0000\u0004\u0000\u0000\u0000\u0003\u0000\u0000\u0000K\u0000\u0000\u0000s.\u0000\u0000\u0000|\u0001\u0000|\u0003\u0000d\u0001\u0000<|\u0002\u0000|\u0003\u0000d\u0002\u0000<t\u0000\u0000t\u0001\u0000|\u0000\u0000�\u0002\u0000j\u0002\u0000|\u0003\u0000�\u0000\u0000\u0001d\u0000\u0000S(\u0003\u0000\u0000\u0000Nt\u0006\u0000\u0000\u0000sourcet\u0006\u0000\u0000\u0000target(\u0003\u0000\u0000\u0000R\t\u0000\u0000\u0000R\u001f\u0000\u0000\u0000R\n",
      "\u0000\u0000\u0000(\u0004\u0000\u0000\u0000R\u000b",
      "\u0000\u0000\u0000R\"\u0000\u0000\u0000R#\u0000\u0000\u0000R\f",
      "\u0000\u0000\u0000(\u0000\u0000\u0000\u0000(\u0000\u0000\u0000\u0000s3\u0000\u0000\u0000Lib\\site-packages\\ipywidgets\\widgets\\widget_link.pyR\n",
      "\u0000\u0000\u00001\u0000\u0000\u0000s\u0006\u0000\u0000\u0000\u0000\u0001\n",
      "\u0001\n",
      "\u0001c\u0001\u0000\u0000\u0000\u0001\u0000\u0000\u0000\u0001\u0000\u0000\u0000C\u0000\u0000\u0000s\u000e\u0000\u0000\u0000|\u0000\u0000j\u0000\u0000�\u0000\u0000\u0001d\u0000\u0000S(\u0001\u0000\u0000\u0000N(\u0001\u0000\u0000\u0000t\u0005\u0000\u0000\u0000close(\u0001\u0000\u0000\u0000R\u000b",
      "\u0000\u0000\u0000(\u0000\u0000\u0000\u0000(\u0000\u0000\u0000\u0000s3\u0000\u0000\u0000Lib\\site-packages\\ipywidgets\\widgets\\widget_link.pyt\u0006\u0000\u0000\u0000unlink7\u0000\u0000\u0000s\u0002\u0000\u0000\u0000\u0000\u0001(\r",
      "\u0000\u0000\u0000R\u0012\u0000\u0000\u0000R\u001c",
      "\u0000\u0000\u0000R\u001d",
      "\u0000\u0000\u0000R\u0004\u0000\u0000\u0000t\u0003\u0000\u0000\u0000tagt\u0004\u0000\u0000\u0000Truet\u000b",
      "\u0000\u0000\u0000_model_nameR\b\u0000\u0000\u0000R\u0002\u0000\u0000\u0000R#\u0000\u0000\u0000R\"\u0000\u0000\u0000R\n",
      "\u0000\u0000\u0000R%\u0000\u0000\u0000(\u0000\u0000\u0000\u0000(\u0000\u0000\u0000\u0000(\u0000\u0000\u0000\u0000s3\u0000\u0000\u0000Lib\\site-packages\\ipywidgets\\widgets\\widget_link.pyR\u001f\u0000\u0000\u0000%\u0000\u0000\u0000s\f",
      "\u0000\u0000\u0000\u0006\u0006\u0006\u0002\u0018\u0001\u001e",
      "\u0001\u001e",
      "\u0002\t\u0006c\u0002\u0000\u0000\u0000\u0002\u0000\u0000\u0000\u0003\u0000\u0000\u0000C\u0000\u0000\u0000s\r",
      "\u0000\u0000\u0000t\u0000\u0000|\u0000\u0000|\u0001\u0000�\u0002\u0000S(\u0001\u0000\u0000\u0000s�\u0001\u0000\u0000Link two widget attributes on the frontend so they remain in sync.\n",
      "\n",
      "    The link is created in the front-end and does not rely on a roundtrip\n",
      "    to the backend.\n",
      "\n",
      "    Parameters\n",
      "    ----------\n",
      "    source : a (Widget, 'trait_name') tuple for the first trait\n",
      "    target : a (Widget, 'trait_name') tuple for the second trait\n",
      "\n",
      "    Examples\n",
      "    --------\n",
      "\n",
      "    >>> c = link((widget1, 'value'), (widget2, 'value'))\n",
      "    (\u0001\u0000\u0000\u0000R\u001f\u0000\u0000\u0000(\u0002\u0000\u0000\u0000t\u0005\u0000\u0000\u0000attr1t\u0005\u0000\u0000\u0000attr2(\u0000\u0000\u0000\u0000(\u0000\u0000\u0000\u0000s3\u0000\u0000\u0000Lib\\site-packages\\ipywidgets\\widgets\\widget_link.pyt\u0006\u0000\u0000\u0000jslink;\u0000\u0000\u0000s\u0002\u0000\u0000\u0000\u0000\u0010t\u000f\u0000\u0000\u0000DirectionalLinkc\u0000\u0000\u0000\u0000\u0000\u0000\u0000\u0000\u0003\u0000\u0000\u0000B\u0000\u0000\u0000s&\u0000\u0000\u0000e\u0000\u0000Z\u0001\u0000d\u0000\u0000Z\u0002\u0000e\u0003\u0000d\u0001\u0000�\u0001\u0000j\u0004\u0000d\u0002\u0000e\u0005\u0000�\u0000\u0001Z\u0006\u0000RS(\u0003\u0000\u0000\u0000s�\u0000\u0000\u0000A directional link\n",
      "\n",
      "    source: a (Widget, 'trait_name') tuple for the source trait\n",
      "    target: a (Widget, 'trait_name') tuple that should be updated\n",
      "    when the source trait changes.\n",
      "    t\u0014\u0000\u0000\u0000DirectionalLinkModelR\r",
      "\u0000\u0000\u0000(\u0007\u0000\u0000\u0000R\u0012\u0000\u0000\u0000R\u001c",
      "\u0000\u0000\u0000R\u001d",
      "\u0000\u0000\u0000R\u0004\u0000\u0000\u0000R&\u0000\u0000\u0000R'\u0000\u0000\u0000R(\u0000\u0000\u0000(\u0000\u0000\u0000\u0000(\u0000\u0000\u0000\u0000(\u0000\u0000\u0000\u0000s3\u0000\u0000\u0000Lib\\site-packages\\ipywidgets\\widgets\\widget_link.pyR,\u0000\u0000\u0000N\u0000\u0000\u0000s\u0004\u0000\u0000\u0000\u0006\u0007\u0006\u0001c\u0002\u0000\u0000\u0000\u0002\u0000\u0000\u0000\u0003\u0000\u0000\u0000C\u0000\u0000\u0000s\r",
      "\u0000\u0000\u0000t\u0000\u0000|\u0000\u0000|\u0001\u0000�\u0002\u0000S(\u0001\u0000\u0000\u0000s�\u0001\u0000\u0000Link a source widget attribute with a target widget attribute.\n",
      "\n",
      "    The link is created in the front-end and does not rely on a roundtrip\n",
      "    to the backend.\n",
      "\n",
      "    Parameters\n",
      "    ----------\n",
      "    source : a (Widget, 'trait_name') tuple for the source trait\n",
      "    target : a (Widget, 'trait_name') tuple for the target trait\n",
      "\n",
      "    Examples\n",
      "    --------\n",
      "\n",
      "    >>> c = dlink((src_widget, 'value'), (tgt_widget, 'value'))\n",
      "    (\u0001\u0000\u0000\u0000R,\u0000\u0000\u0000(\u0002\u0000\u0000\u0000R\"\u0000\u0000\u0000R#\u0000\u0000\u0000(\u0000\u0000\u0000\u0000(\u0000\u0000\u0000\u0000s3\u0000\u0000\u0000Lib\\site-packages\\ipywidgets\\wi\n"
     ]
    }
   ],
   "source": [
    "fo = open(\"sample4.txt\",\"r+\")\n",
    "fo.write(\"hello\")\n",
    "print fo.read()\n",
    "\n",
    "fo.close()"
   ]
  },
  {
   "cell_type": "code",
   "execution_count": 19,
   "metadata": {},
   "outputs": [
    {
     "name": "stdout",
     "output_type": "stream",
     "text": [
      "hellokumar\n"
     ]
    }
   ],
   "source": [
    "fo = open(\"new.txt\",\"r+\")\n",
    "\n",
    "fo.write(\"hello\")\n",
    "fo.seek(0,0)\n",
    "print fo.read()\n",
    "\n",
    "fo.close()"
   ]
  }
 ],
 "metadata": {
  "kernelspec": {
   "display_name": "Python 2",
   "language": "python",
   "name": "python2"
  },
  "language_info": {
   "codemirror_mode": {
    "name": "ipython",
    "version": 2
   },
   "file_extension": ".py",
   "mimetype": "text/x-python",
   "name": "python",
   "nbconvert_exporter": "python",
   "pygments_lexer": "ipython2",
   "version": "2.7.16"
  }
 },
 "nbformat": 4,
 "nbformat_minor": 2
}
