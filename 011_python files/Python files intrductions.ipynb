{
 "cells": [
  {
   "cell_type": "markdown",
   "metadata": {},
   "source": [
    "#### file\n",
    "\n",
    "-->> Collection of the related data\n",
    "\n",
    "####  types \n",
    "\n",
    "1. Text file\n",
    "\n",
    "---->>> Collection of the alpha numarical data\n",
    "\n",
    "---->>> easy to write & read \n",
    "\n",
    "---->>> .txt / .doc / .ppt / .pdf , .csv / .excel\n",
    "\n",
    "2. Binary file\n",
    "\n",
    "--->>  Collection of 0 & 1\n",
    "\n",
    "--->> Its not easy to write & read\n",
    "\n",
    "\n",
    "#### File operations\n",
    "\n",
    "--->> create a file \n",
    "\n",
    "--->> Opening a file \n",
    "\n",
    "--->> closing a  file\n",
    "\n",
    "--->> writing into a file \n",
    "\n",
    "--->> reading the data from file\n",
    "\n",
    "#### file handling  with python\n",
    "\n",
    "--->>> we are doing the file operations\n",
    "\n",
    "--->>  FILE  --->> is a pre defined class\n",
    "\n",
    "--->> with in FILE we have all file handling methods \n",
    "\n",
    "--->> file_object can be create open function\n",
    "\n",
    "        1. close()\n",
    "        \n",
    "        2. write()\n",
    "        \n",
    "        3. read()\n",
    "        \n",
    "        4. readline()\n",
    "        \n",
    "        5. readlines()\n",
    "        \n",
    "        6. seek()\n",
    "        \n",
    "        7. tell()\n",
    "        \n",
    "--->>> open(\"filename\",\"mode\")\n",
    "\n",
    "--->> mode\n",
    "\n",
    "1. write\n",
    "\n",
    "    --->> file is not existed then file can be created\n",
    "    \n",
    "    --->> file is existed with some data then data can lost and opened freshly\n",
    "    \n",
    "    w -->> we can use only write method\n",
    "    \n",
    "    w+ -->> we can use read methods & write methods \n",
    "\n",
    "\n",
    "2. read\n",
    "\n",
    "\n",
    "3. append\n",
    "\n",
    "    --->> file is not existed then file can be created\n",
    "    \n",
    "    --->> file is existed with some data then data can safe and opened \n",
    "    \n",
    "    a -->> we can use only write method\n",
    "    \n",
    "    a+ -->> we can use read methods & write methods "
   ]
  },
  {
   "cell_type": "code",
   "execution_count": 1,
   "metadata": {},
   "outputs": [
    {
     "name": "stdout",
     "output_type": "stream",
     "text": [
      "enter some data : \"anjan kumar \"\n"
     ]
    }
   ],
   "source": [
    "fo = open(\"sample.txt\",\"w\")# it can create \n",
    "data = input(\"enter some data : \")\n",
    "fo.write(data)\n",
    "fo.close()"
   ]
  },
  {
   "cell_type": "code",
   "execution_count": 2,
   "metadata": {},
   "outputs": [
    {
     "name": "stdout",
     "output_type": "stream",
     "text": [
      "enter some data : \"python file handling\"\n"
     ]
    }
   ],
   "source": [
    "fo = open(\"sample1.txt\",\"w+\")# it can create \n",
    "data = input(\"enter some data : \")\n",
    "fo.write(data)\n",
    "fo.close()"
   ]
  },
  {
   "cell_type": "code",
   "execution_count": 3,
   "metadata": {},
   "outputs": [
    {
     "name": "stdout",
     "output_type": "stream",
     "text": [
      "enter some data : \"new data\"\n"
     ]
    }
   ],
   "source": [
    "fo = open(\"sample.txt\",\"w\")# file already existed with some data\n",
    "data = input(\"enter some data : \")\n",
    "fo.write(data)\n",
    "fo.close()"
   ]
  },
  {
   "cell_type": "code",
   "execution_count": 4,
   "metadata": {},
   "outputs": [
    {
     "name": "stdout",
     "output_type": "stream",
     "text": [
      "enter some data : \"1234%\"\n"
     ]
    }
   ],
   "source": [
    "fo = open(\"sample1.txt\",\"w+\")# file already existed with some data\n",
    "data = input(\"enter some data : \")\n",
    "fo.write(data)\n",
    "fo.close()"
   ]
  },
  {
   "cell_type": "code",
   "execution_count": 5,
   "metadata": {},
   "outputs": [
    {
     "name": "stdout",
     "output_type": "stream",
     "text": [
      "enter some data : \"1234\"\n"
     ]
    },
    {
     "ename": "IOError",
     "evalue": "File not open for reading",
     "output_type": "error",
     "traceback": [
      "\u001b[1;31m---------------------------------------------------------------------------\u001b[0m",
      "\u001b[1;31mIOError\u001b[0m                                   Traceback (most recent call last)",
      "\u001b[1;32m<ipython-input-5-167bf556f6b4>\u001b[0m in \u001b[0;36m<module>\u001b[1;34m()\u001b[0m\n\u001b[0;32m      3\u001b[0m \u001b[0mfo\u001b[0m\u001b[1;33m.\u001b[0m\u001b[0mwrite\u001b[0m\u001b[1;33m(\u001b[0m\u001b[0mdata\u001b[0m\u001b[1;33m)\u001b[0m\u001b[1;33m\u001b[0m\u001b[0m\n\u001b[0;32m      4\u001b[0m \u001b[0mfo\u001b[0m\u001b[1;33m.\u001b[0m\u001b[0mseek\u001b[0m\u001b[1;33m(\u001b[0m\u001b[1;36m0\u001b[0m\u001b[1;33m,\u001b[0m\u001b[1;36m0\u001b[0m\u001b[1;33m)\u001b[0m\u001b[1;33m\u001b[0m\u001b[0m\n\u001b[1;32m----> 5\u001b[1;33m \u001b[1;32mprint\u001b[0m \u001b[0mfo\u001b[0m\u001b[1;33m.\u001b[0m\u001b[0mread\u001b[0m\u001b[1;33m(\u001b[0m\u001b[1;33m)\u001b[0m\u001b[1;33m\u001b[0m\u001b[0m\n\u001b[0m\u001b[0;32m      6\u001b[0m \u001b[0mfo\u001b[0m\u001b[1;33m.\u001b[0m\u001b[0mclose\u001b[0m\u001b[1;33m(\u001b[0m\u001b[1;33m)\u001b[0m\u001b[1;33m\u001b[0m\u001b[0m\n",
      "\u001b[1;31mIOError\u001b[0m: File not open for reading"
     ]
    }
   ],
   "source": [
    "fo = open(\"sample.txt\",\"w\")# file already existed with some data\n",
    "data = input(\"enter some data : \")\n",
    "fo.write(data)\n",
    "fo.seek(0,0) \n",
    "print fo.read()# not supported \n",
    "fo.close()"
   ]
  },
  {
   "cell_type": "code",
   "execution_count": 6,
   "metadata": {},
   "outputs": [
    {
     "name": "stdout",
     "output_type": "stream",
     "text": [
      "enter some data : \"123456\"\n",
      "123456\n"
     ]
    }
   ],
   "source": [
    "fo = open(\"sample.txt\",\"w+\")# file already existed with some data\n",
    "data = input(\"enter some data : \")\n",
    "fo.write(data)\n",
    "fo.seek(0,0) #  0 no position moving  ,  ( 0 starting / 1 current / 2 ending )\n",
    "print fo.read()#  supported \n",
    "fo.close()"
   ]
  },
  {
   "cell_type": "code",
   "execution_count": 10,
   "metadata": {},
   "outputs": [
    {
     "name": "stdout",
     "output_type": "stream",
     "text": [
      "start cursor loc :  0\n",
      "enter some data : \"anjankumar\"\n",
      "after writing  cursor loc :  10\n",
      "start cursor loc :  0\n",
      "after seeking 5 positon from starting cursor loc :  5\n",
      "after seeking -2 positon from current  cursor loc :  3\n",
      "after seeking 4 positon from current  cursor loc :  7\n",
      "after seeking 0 positon from end  cursor loc :  10\n",
      "after seeking -4 positon from end  cursor loc :  6\n"
     ]
    }
   ],
   "source": [
    "# seek method\n",
    "'''\n",
    "fo.seek(+ve / -ve / 0, 0/1/2)\n",
    "\n",
    "0 --->> file position at starting \n",
    "1 --->> file position at current loc\n",
    "2 -->> file position at end of the file \n",
    "'''\n",
    "fo =  open(\"new.txt\",\"w\")\n",
    "print \"start cursor loc : \" ,fo.tell()\n",
    "data = input(\"enter some data : \")# 10 char\n",
    "fo.write(data)\n",
    "print \"after writing  cursor loc : \", fo.tell() #10\n",
    "fo.seek(0,0)# 0\n",
    "print \"start cursor loc : \" ,fo.tell()\n",
    "fo.seek(5,0)\n",
    "print \"after seeking 5 positon from starting cursor loc : \", fo.tell()# 5\n",
    "fo.seek(-2,1) # 3\n",
    "print \"after seeking -2 positon from current  cursor loc : \" ,fo.tell()# 3\n",
    "fo.seek(4,1) # 7\n",
    "print \"after seeking 4 positon from current  cursor loc : \", fo.tell()# 7\n",
    "fo.seek(0,2) # 7\n",
    "print \"after seeking 0 positon from end  cursor loc : \" ,fo.tell()# 10\n",
    "fo.seek(-4,2) # 10\n",
    "print \"after seeking -4 positon from end  cursor loc : \" ,fo.tell()# 6\n",
    "fo.close()"
   ]
  },
  {
   "cell_type": "code",
   "execution_count": null,
   "metadata": {},
   "outputs": [],
   "source": []
  },
  {
   "cell_type": "code",
   "execution_count": null,
   "metadata": {},
   "outputs": [],
   "source": []
  },
  {
   "cell_type": "code",
   "execution_count": null,
   "metadata": {},
   "outputs": [],
   "source": []
  }
 ],
 "metadata": {
  "kernelspec": {
   "display_name": "Python 2",
   "language": "python",
   "name": "python2"
  },
  "language_info": {
   "codemirror_mode": {
    "name": "ipython",
    "version": 2
   },
   "file_extension": ".py",
   "mimetype": "text/x-python",
   "name": "python",
   "nbconvert_exporter": "python",
   "pygments_lexer": "ipython2",
   "version": "2.7.16"
  }
 },
 "nbformat": 4,
 "nbformat_minor": 2
}
