{
 "cells": [
  {
   "cell_type": "markdown",
   "metadata": {},
   "source": [
    "### function\n",
    "\n",
    "--->> set of statements to do any one specific task\n",
    "\n",
    "### types of functions\n",
    "\n",
    "--->>1.  User defined functions -->> programmer \n",
    "\n",
    "--->>2. Predefined fucntions ---> already defined it\n",
    "\n",
    "        1. input function --->> reading the data from keyboard\n",
    "                \n",
    "                input() ---->> datatype is depends on the input data\n",
    "                \n",
    "                raw_input()--->> str is resultant datatype\n",
    "                \n",
    "        2. output function--->> to display the data on monitor\n",
    "        \n",
    "                print --->> keyword --->> statement\n",
    "                \n",
    "                print() --->>keyword --->> function\n",
    "                \n",
    "        3. type & id  ------>> to know the datatype &  memory loc\n"
   ]
  },
  {
   "cell_type": "code",
   "execution_count": 1,
   "metadata": {},
   "outputs": [
    {
     "name": "stdout",
     "output_type": "stream",
     "text": [
      "enter int  data  : 789\n",
      "data in var :  789\n",
      "<type 'int'>\n",
      "memory loc :  67206112\n"
     ]
    }
   ],
   "source": [
    "# wap read int data from input function and disply data , datatype , memory loc\n",
    "var =input(\"enter int  data  : \")\n",
    "print \"data in var : \",var\n",
    "print(type(var))\n",
    "print \"memory loc : \",id(var)"
   ]
  },
  {
   "cell_type": "code",
   "execution_count": 2,
   "metadata": {},
   "outputs": [
    {
     "name": "stdout",
     "output_type": "stream",
     "text": [
      "enter int  data  : 789\n",
      "data in var :  789\n",
      "<type 'str'>\n",
      "memory loc :  76385176\n"
     ]
    }
   ],
   "source": [
    "# wap read int data from raw_input function and disply data , datatype , memory loc\n",
    "var =raw_input(\"enter int  data  : \")\n",
    "print \"data in var : \",var\n",
    "print(type(var))\n",
    "print \"memory loc : \",id(var)"
   ]
  },
  {
   "cell_type": "code",
   "execution_count": 3,
   "metadata": {},
   "outputs": [
    {
     "name": "stdout",
     "output_type": "stream",
     "text": [
      "enter float  data  : 78.6545\n",
      "data in var :  78.6545\n",
      "<type 'float'>\n",
      "memory loc :  69525480\n",
      "enter float  data  : 78.6545\n",
      "data in var :  78.6545\n",
      "<type 'str'>\n",
      "memory loc :  69963608\n"
     ]
    }
   ],
   "source": [
    "# wap read float data from input function and disply data , datatype , memory loc\n",
    "var =input(\"enter float  data  : \")\n",
    "print \"data in var : \",var\n",
    "print(type(var))\n",
    "print \"memory loc : \",id(var)\n",
    "# wap read float data from input function and disply data , datatype , memory loc\n",
    "var =raw_input(\"enter float  data  : \")\n",
    "print \"data in var : \",var\n",
    "print(type(var))\n",
    "print \"memory loc : \",id(var)"
   ]
  },
  {
   "cell_type": "code",
   "execution_count": 4,
   "metadata": {},
   "outputs": [
    {
     "name": "stdout",
     "output_type": "stream",
     "text": [
      "enter bool  data  : True\n",
      "data in var :  True\n",
      "<type 'bool'>\n",
      "memory loc :  1569963752\n",
      "enter bool  data  : True\n",
      "data in var :  True\n",
      "<type 'str'>\n",
      "memory loc :  76386216\n"
     ]
    }
   ],
   "source": [
    "# wap read bool data from input function and disply data , datatype , memory loc\n",
    "var =input(\"enter bool  data  : \")\n",
    "print \"data in var : \",var\n",
    "print(type(var))\n",
    "print \"memory loc : \",id(var)\n",
    "# wap read bool data from input function and disply data , datatype , memory loc\n",
    "var =raw_input(\"enter bool  data  : \")\n",
    "print \"data in var : \",var\n",
    "print(type(var))\n",
    "print \"memory loc : \",id(var)"
   ]
  },
  {
   "cell_type": "code",
   "execution_count": 5,
   "metadata": {},
   "outputs": [
    {
     "name": "stdout",
     "output_type": "stream",
     "text": [
      "enter complex  data  : 4 + 5j\n",
      "data in var :  (4+5j)\n",
      "<type 'complex'>\n",
      "memory loc :  70031504\n",
      "enter complex  data  : 4 + 5 j\n",
      "data in var :  4 + 5 j\n",
      "<type 'str'>\n",
      "memory loc :  69962048\n"
     ]
    }
   ],
   "source": [
    "# wap read complex data from input function and disply data , datatype , memory loc\n",
    "var =input(\"enter complex  data  : \")\n",
    "print \"data in var : \",var\n",
    "print(type(var))\n",
    "print \"memory loc : \",id(var)\n",
    "# wap read complex data from input function and disply data , datatype , memory loc\n",
    "var =raw_input(\"enter complex  data  : \")\n",
    "print \"data in var : \",var\n",
    "print(type(var))\n",
    "print \"memory loc : \",id(var)"
   ]
  },
  {
   "cell_type": "code",
   "execution_count": 6,
   "metadata": {},
   "outputs": [
    {
     "name": "stdout",
     "output_type": "stream",
     "text": [
      "enter None  data  : None\n",
      "data in var :  None\n",
      "<type 'NoneType'>\n",
      "memory loc :  1569918072\n",
      "enter None  data  : None\n",
      "data in var :  None\n",
      "<type 'str'>\n",
      "memory loc :  76384856\n"
     ]
    }
   ],
   "source": [
    "# wap read Nonetype data from input function and disply data , datatype , memory loc\n",
    "var =input(\"enter None  data  : \")\n",
    "print \"data in var : \",var\n",
    "print(type(var))\n",
    "print \"memory loc : \",id(var)\n",
    "# wap read Nonetype data from input function and disply data , datatype , memory loc\n",
    "var =raw_input(\"enter None  data  : \")\n",
    "print \"data in var : \",var\n",
    "print(type(var))\n",
    "print \"memory loc : \",id(var)"
   ]
  },
  {
   "cell_type": "code",
   "execution_count": 7,
   "metadata": {},
   "outputs": [
    {
     "name": "stdout",
     "output_type": "stream",
     "text": [
      "enter str  data  : \"python\"\n",
      "data in var :  python\n",
      "<type 'str'>\n",
      "memory loc :  38246240\n",
      "enter str  data  : \"python\"\n",
      "data in var :  \"python\"\n",
      "<type 'str'>\n",
      "memory loc :  76507248\n"
     ]
    }
   ],
   "source": [
    "# wap read str data from input function and disply data , datatype , memory loc\n",
    "var =input(\"enter str  data  : \")\n",
    "print \"data in var : \",var\n",
    "print(type(var))\n",
    "print \"memory loc : \",id(var)\n",
    "# wap read str data from input function and disply data , datatype , memory loc\n",
    "var =raw_input(\"enter str  data  : \")\n",
    "print \"data in var : \",var\n",
    "print(type(var))\n",
    "print \"memory loc : \",id(var)"
   ]
  },
  {
   "cell_type": "code",
   "execution_count": 8,
   "metadata": {},
   "outputs": [
    {
     "name": "stdout",
     "output_type": "stream",
     "text": [
      "enter list data  : [12,7.3,5+3j]\n",
      "data in var :  [12, 7.3, (5+3j)]\n",
      "<type 'list'>\n",
      "memory loc :  75447880\n",
      "enter list  data  : [12,7.3,5+3j]\n",
      "data in var :  [12,7.3,5+3j]\n",
      "<type 'str'>\n",
      "memory loc :  76507248\n"
     ]
    }
   ],
   "source": [
    "# wap read list data from input function and disply data , datatype , memory loc\n",
    "var =input(\"enter list data  : \")\n",
    "print \"data in var : \",var\n",
    "print(type(var))\n",
    "print \"memory loc : \",id(var)\n",
    "# wap read list data from raw_input function and disply data , datatype , memory loc\n",
    "var =raw_input(\"enter list  data  : \")\n",
    "print \"data in var : \",var\n",
    "print(type(var))\n",
    "print \"memory loc : \",id(var)"
   ]
  },
  {
   "cell_type": "code",
   "execution_count": 9,
   "metadata": {},
   "outputs": [
    {
     "name": "stdout",
     "output_type": "stream",
     "text": [
      "enter tuple data  : (12,7.333)\n",
      "data in var :  (12, 7.333)\n",
      "<type 'tuple'>\n",
      "memory loc :  75440840\n",
      "enter tuplle  data  : (12,4.34)\n",
      "data in var :  (12,4.34)\n",
      "<type 'str'>\n",
      "memory loc :  76507248\n"
     ]
    }
   ],
   "source": [
    "# wap read tuple data from input function and disply data , datatype , memory loc\n",
    "var =input(\"enter tuple data  : \")\n",
    "print \"data in var : \",var\n",
    "print(type(var))\n",
    "print \"memory loc : \",id(var)\n",
    "# wap read tuple data from raw_input function and disply data , datatype , memory loc\n",
    "var =raw_input(\"enter tuplle  data  : \")\n",
    "print \"data in var : \",var\n",
    "print(type(var))\n",
    "print \"memory loc : \",id(var)"
   ]
  },
  {
   "cell_type": "code",
   "execution_count": 10,
   "metadata": {},
   "outputs": [
    {
     "name": "stdout",
     "output_type": "stream",
     "text": [
      "enter set data  : {12,46,23}\n",
      "data in var :  set([12, 46, 23])\n",
      "<type 'set'>\n",
      "memory loc :  66768680\n",
      "enter set  data  : {12,46,23}\n",
      "data in var :  {12,46,23}\n",
      "<type 'str'>\n",
      "memory loc :  76507248\n"
     ]
    }
   ],
   "source": [
    "# wap read set data from input function and disply data , datatype , memory loc\n",
    "var =input(\"enter set data  : \")\n",
    "print \"data in var : \",var\n",
    "print(type(var))\n",
    "print \"memory loc : \",id(var)\n",
    "# wap read set data from raw_input function and disply data , datatype , memory loc\n",
    "var =raw_input(\"enter set  data  : \")\n",
    "print \"data in var : \",var\n",
    "print(type(var))\n",
    "print \"memory loc : \",id(var)"
   ]
  },
  {
   "cell_type": "code",
   "execution_count": 11,
   "metadata": {},
   "outputs": [
    {
     "name": "stdout",
     "output_type": "stream",
     "text": [
      "enter dict data  : {12 : \"soc\" , 89 :\"python\"}\n",
      "data in var :  {89: 'python', 12: 'soc'}\n",
      "<type 'dict'>\n",
      "memory loc :  76994760\n",
      "enter dict  data  : {12 : \"soc\" , 89 :\"python\"}\n",
      "data in var :  {12 : \"soc\" , 89 :\"python\"}\n",
      "<type 'str'>\n",
      "memory loc :  76987696\n"
     ]
    }
   ],
   "source": [
    "# wap read dict data from input function and disply data , datatype , memory loc\n",
    "var =input(\"enter dict data  : \")\n",
    "print \"data in var : \",var\n",
    "print(type(var))\n",
    "print \"memory loc : \",id(var)\n",
    "# wap read dict data from raw_input function and disply data , datatype , memory loc\n",
    "var =raw_input(\"enter dict  data  : \")\n",
    "print \"data in var : \",var\n",
    "print(type(var))\n",
    "print \"memory loc : \",id(var)"
   ]
  },
  {
   "cell_type": "code",
   "execution_count": 13,
   "metadata": {},
   "outputs": [
    {
     "name": "stdout",
     "output_type": "stream",
     "text": [
      "enter int :789\n",
      "<type 'str'>\n",
      "<type 'int'>\n"
     ]
    }
   ],
   "source": [
    "# datatype conversion\n",
    "'''\n",
    "--->> we can convert from one datatype to another datatype\n",
    "'''\n",
    "# raw_input \n",
    "#int data -->> str datatype --->> int() --->> int datatype\n",
    "# float() \n",
    "# complex()\n",
    "# bool()\n",
    "# str()\n",
    "# list()\n",
    "# tuple()\n",
    "# set()\n",
    "# dict()\n",
    "# wap read int by raw_input and then convert str to int \n",
    "var = raw_input(\"enter int :\" )\n",
    "print type(var)\n",
    "var = int(var)\n",
    "print type(var)"
   ]
  },
  {
   "cell_type": "code",
   "execution_count": 14,
   "metadata": {},
   "outputs": [
    {
     "name": "stdout",
     "output_type": "stream",
     "text": [
      "enter float :78.6854\n",
      "<type 'str'>\n",
      "<type 'float'>\n"
     ]
    }
   ],
   "source": [
    "var = raw_input(\"enter float :\" )\n",
    "print type(var)\n",
    "var = float(var)\n",
    "print type(var)"
   ]
  },
  {
   "cell_type": "code",
   "execution_count": 15,
   "metadata": {},
   "outputs": [
    {
     "name": "stdout",
     "output_type": "stream",
     "text": [
      "enter complex :7+5j\n",
      "<type 'str'>\n",
      "<type 'complex'>\n"
     ]
    }
   ],
   "source": [
    "var = raw_input(\"enter complex :\" )\n",
    "print type(var)\n",
    "var = complex(var)\n",
    "print type(var)"
   ]
  },
  {
   "cell_type": "code",
   "execution_count": 16,
   "metadata": {},
   "outputs": [
    {
     "name": "stdout",
     "output_type": "stream",
     "text": [
      "enter bool :True\n",
      "<type 'str'>\n",
      "<type 'bool'>\n"
     ]
    }
   ],
   "source": [
    "var = raw_input(\"enter bool :\" )\n",
    "print type(var)\n",
    "var = bool(var)\n",
    "print type(var)"
   ]
  },
  {
   "cell_type": "code",
   "execution_count": 17,
   "metadata": {},
   "outputs": [
    {
     "name": "stdout",
     "output_type": "stream",
     "text": [
      "enter list :[12,45,1]\n",
      "<type 'str'>\n",
      "<type 'list'>\n"
     ]
    }
   ],
   "source": [
    "var = raw_input(\"enter list :\" )\n",
    "print type(var)\n",
    "var = list(var)\n",
    "print type(var)"
   ]
  },
  {
   "cell_type": "code",
   "execution_count": 18,
   "metadata": {},
   "outputs": [
    {
     "name": "stdout",
     "output_type": "stream",
     "text": [
      "enter tuplle :(1,2,3)\n",
      "<type 'str'>\n",
      "<type 'tuple'>\n"
     ]
    }
   ],
   "source": [
    "var = raw_input(\"enter tuplle :\" )\n",
    "print type(var)\n",
    "var = tuple(var)\n",
    "print type(var)"
   ]
  },
  {
   "cell_type": "code",
   "execution_count": 19,
   "metadata": {},
   "outputs": [
    {
     "name": "stdout",
     "output_type": "stream",
     "text": [
      "enter int :{1,2,3}\n",
      "<type 'str'>\n",
      "<type 'set'>\n"
     ]
    }
   ],
   "source": [
    "var = raw_input(\"enter int :\" )\n",
    "print type(var)\n",
    "var = set(var)\n",
    "print type(var)"
   ]
  },
  {
   "cell_type": "code",
   "execution_count": 20,
   "metadata": {},
   "outputs": [
    {
     "name": "stdout",
     "output_type": "stream",
     "text": [
      "enter dict :{12:\"dd\",5:\"dt\"}\n",
      "<type 'str'>\n"
     ]
    },
    {
     "ename": "ValueError",
     "evalue": "dictionary update sequence element #0 has length 1; 2 is required",
     "output_type": "error",
     "traceback": [
      "\u001b[1;31m---------------------------------------------------------------------------\u001b[0m",
      "\u001b[1;31mValueError\u001b[0m                                Traceback (most recent call last)",
      "\u001b[1;32m<ipython-input-20-5170140aa563>\u001b[0m in \u001b[0;36m<module>\u001b[1;34m()\u001b[0m\n\u001b[0;32m      1\u001b[0m \u001b[0mvar\u001b[0m \u001b[1;33m=\u001b[0m \u001b[0mraw_input\u001b[0m\u001b[1;33m(\u001b[0m\u001b[1;34m\"enter dict :\"\u001b[0m \u001b[1;33m)\u001b[0m\u001b[1;33m\u001b[0m\u001b[0m\n\u001b[0;32m      2\u001b[0m \u001b[1;32mprint\u001b[0m \u001b[0mtype\u001b[0m\u001b[1;33m(\u001b[0m\u001b[0mvar\u001b[0m\u001b[1;33m)\u001b[0m\u001b[1;33m\u001b[0m\u001b[0m\n\u001b[1;32m----> 3\u001b[1;33m \u001b[0mvar\u001b[0m \u001b[1;33m=\u001b[0m \u001b[0mdict\u001b[0m\u001b[1;33m(\u001b[0m\u001b[0mvar\u001b[0m\u001b[1;33m)\u001b[0m\u001b[1;33m\u001b[0m\u001b[0m\n\u001b[0m\u001b[0;32m      4\u001b[0m \u001b[1;32mprint\u001b[0m \u001b[0mtype\u001b[0m\u001b[1;33m(\u001b[0m\u001b[0mvar\u001b[0m\u001b[1;33m)\u001b[0m\u001b[1;33m\u001b[0m\u001b[0m\n",
      "\u001b[1;31mValueError\u001b[0m: dictionary update sequence element #0 has length 1; 2 is required"
     ]
    }
   ],
   "source": [
    "var = raw_input(\"enter dict :\" )\n",
    "print type(var)\n",
    "var = dict(var)\n",
    "print type(var)"
   ]
  },
  {
   "cell_type": "code",
   "execution_count": null,
   "metadata": {},
   "outputs": [],
   "source": []
  },
  {
   "cell_type": "code",
   "execution_count": null,
   "metadata": {},
   "outputs": [],
   "source": []
  }
 ],
 "metadata": {
  "kernelspec": {
   "display_name": "Python 2",
   "language": "python",
   "name": "python2"
  },
  "language_info": {
   "codemirror_mode": {
    "name": "ipython",
    "version": 2
   },
   "file_extension": ".py",
   "mimetype": "text/x-python",
   "name": "python",
   "nbconvert_exporter": "python",
   "pygments_lexer": "ipython2",
   "version": "2.7.16"
  }
 },
 "nbformat": 4,
 "nbformat_minor": 2
}
