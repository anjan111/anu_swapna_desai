{
 "cells": [
  {
   "cell_type": "code",
   "execution_count": 1,
   "metadata": {},
   "outputs": [
    {
     "name": "stdout",
     "output_type": "stream",
     "text": [
      "{90: 12, 67: 45, 34: 67}\n",
      "<type 'dict'>\n"
     ]
    }
   ],
   "source": [
    "# dict --->> collection of pair of keys and values ( key : value   --->> item)\n",
    "# dict --->> unorder datatype\n",
    "var = {67 : 45 , 90 : 12,34:67}\n",
    "print var\n",
    "print type(var)"
   ]
  },
  {
   "cell_type": "code",
   "execution_count": 2,
   "metadata": {},
   "outputs": [
    {
     "name": "stdout",
     "output_type": "stream",
     "text": [
      "{1: '23', 3.2: '34', None: 'e', (4+3j): 'soc', (1, 4): '78', 'st': 78}\n"
     ]
    }
   ],
   "source": [
    "# we can use only few datatype as keys \n",
    "# int, float, complex, bool,None,str,tuple\n",
    "var = {1 : \"s\" , 3.2 : \"34\",4+3j:\"soc\",True:\"23\",None:\"e\",\"st\":78,(1,4):\"78\"}\n",
    "print var"
   ]
  },
  {
   "cell_type": "code",
   "execution_count": 3,
   "metadata": {},
   "outputs": [
    {
     "ename": "TypeError",
     "evalue": "unhashable type: 'list'",
     "output_type": "error",
     "traceback": [
      "\u001b[1;31m---------------------------------------------------------------------------\u001b[0m",
      "\u001b[1;31mTypeError\u001b[0m                                 Traceback (most recent call last)",
      "\u001b[1;32m<ipython-input-3-4e1a9482fc4e>\u001b[0m in \u001b[0;36m<module>\u001b[1;34m()\u001b[0m\n\u001b[1;32m----> 1\u001b[1;33m \u001b[0mvar\u001b[0m \u001b[1;33m=\u001b[0m \u001b[1;33m{\u001b[0m\u001b[1;33m[\u001b[0m\u001b[1;36m56\u001b[0m\u001b[1;33m,\u001b[0m\u001b[1;36m5\u001b[0m\u001b[1;33m]\u001b[0m\u001b[1;33m:\u001b[0m\u001b[1;34m\"56\"\u001b[0m\u001b[1;33m}\u001b[0m\u001b[1;33m\u001b[0m\u001b[0m\n\u001b[0m\u001b[0;32m      2\u001b[0m \u001b[1;32mprint\u001b[0m \u001b[0mvar\u001b[0m\u001b[1;33m\u001b[0m\u001b[0m\n",
      "\u001b[1;31mTypeError\u001b[0m: unhashable type: 'list'"
     ]
    }
   ],
   "source": [
    "var = {[56,5]:\"56\"}\n",
    "print var"
   ]
  },
  {
   "cell_type": "code",
   "execution_count": 4,
   "metadata": {},
   "outputs": [
    {
     "ename": "TypeError",
     "evalue": "unhashable type: 'set'",
     "output_type": "error",
     "traceback": [
      "\u001b[1;31m---------------------------------------------------------------------------\u001b[0m",
      "\u001b[1;31mTypeError\u001b[0m                                 Traceback (most recent call last)",
      "\u001b[1;32m<ipython-input-4-96fc5f38ef57>\u001b[0m in \u001b[0;36m<module>\u001b[1;34m()\u001b[0m\n\u001b[1;32m----> 1\u001b[1;33m \u001b[0mvar\u001b[0m \u001b[1;33m=\u001b[0m \u001b[1;33m{\u001b[0m\u001b[1;33m{\u001b[0m\u001b[1;36m56\u001b[0m\u001b[1;33m,\u001b[0m\u001b[1;36m5\u001b[0m\u001b[1;33m}\u001b[0m\u001b[1;33m:\u001b[0m\u001b[1;34m\"56\"\u001b[0m\u001b[1;33m}\u001b[0m\u001b[1;33m\u001b[0m\u001b[0m\n\u001b[0m\u001b[0;32m      2\u001b[0m \u001b[1;32mprint\u001b[0m \u001b[0mvar\u001b[0m\u001b[1;33m\u001b[0m\u001b[0m\n",
      "\u001b[1;31mTypeError\u001b[0m: unhashable type: 'set'"
     ]
    }
   ],
   "source": [
    "var = {{56,5}:\"56\"}\n",
    "print var"
   ]
  },
  {
   "cell_type": "code",
   "execution_count": 5,
   "metadata": {},
   "outputs": [
    {
     "ename": "TypeError",
     "evalue": "unhashable type: 'dict'",
     "output_type": "error",
     "traceback": [
      "\u001b[1;31m---------------------------------------------------------------------------\u001b[0m",
      "\u001b[1;31mTypeError\u001b[0m                                 Traceback (most recent call last)",
      "\u001b[1;32m<ipython-input-5-ac85c056d19c>\u001b[0m in \u001b[0;36m<module>\u001b[1;34m()\u001b[0m\n\u001b[1;32m----> 1\u001b[1;33m \u001b[0mvar\u001b[0m \u001b[1;33m=\u001b[0m \u001b[1;33m{\u001b[0m\u001b[1;33m{\u001b[0m\u001b[1;36m56\u001b[0m\u001b[1;33m:\u001b[0m\u001b[1;36m45\u001b[0m\u001b[1;33m}\u001b[0m\u001b[1;33m:\u001b[0m\u001b[1;34m\"56\"\u001b[0m\u001b[1;33m}\u001b[0m\u001b[1;33m\u001b[0m\u001b[0m\n\u001b[0m\u001b[0;32m      2\u001b[0m \u001b[1;32mprint\u001b[0m \u001b[0mvar\u001b[0m\u001b[1;33m\u001b[0m\u001b[0m\n",
      "\u001b[1;31mTypeError\u001b[0m: unhashable type: 'dict'"
     ]
    }
   ],
   "source": [
    "var = {{56:45}:\"56\"}\n",
    "print var"
   ]
  },
  {
   "cell_type": "code",
   "execution_count": 6,
   "metadata": {},
   "outputs": [
    {
     "name": "stdout",
     "output_type": "stream",
     "text": [
      "{90: 12, 67: 45, 34: 67}\n",
      "<type 'dict'>\n"
     ]
    },
    {
     "ename": "KeyError",
     "evalue": "1",
     "output_type": "error",
     "traceback": [
      "\u001b[1;31m---------------------------------------------------------------------------\u001b[0m",
      "\u001b[1;31mKeyError\u001b[0m                                  Traceback (most recent call last)",
      "\u001b[1;32m<ipython-input-6-051059737727>\u001b[0m in \u001b[0;36m<module>\u001b[1;34m()\u001b[0m\n\u001b[0;32m      3\u001b[0m \u001b[1;32mprint\u001b[0m \u001b[0mvar\u001b[0m\u001b[1;33m\u001b[0m\u001b[0m\n\u001b[0;32m      4\u001b[0m \u001b[1;32mprint\u001b[0m \u001b[0mtype\u001b[0m\u001b[1;33m(\u001b[0m\u001b[0mvar\u001b[0m\u001b[1;33m)\u001b[0m\u001b[1;33m\u001b[0m\u001b[0m\n\u001b[1;32m----> 5\u001b[1;33m \u001b[1;32mprint\u001b[0m \u001b[0mvar\u001b[0m\u001b[1;33m[\u001b[0m\u001b[1;36m1\u001b[0m\u001b[1;33m]\u001b[0m\u001b[1;33m\u001b[0m\u001b[0m\n\u001b[0m",
      "\u001b[1;31mKeyError\u001b[0m: 1"
     ]
    }
   ],
   "source": [
    "# dict is not supporting the indexing , slicing , dicing \n",
    "var = {67 : 45 , 90 : 12,34:67}\n",
    "print var\n",
    "print type(var)\n",
    "print var[1]"
   ]
  },
  {
   "cell_type": "code",
   "execution_count": 7,
   "metadata": {},
   "outputs": [
    {
     "name": "stdout",
     "output_type": "stream",
     "text": [
      "{90: 12, 67: 45, 34: 67}\n",
      "<type 'dict'>\n",
      "12\n",
      "{90: 450, 67: 45, 34: 67}\n"
     ]
    }
   ],
   "source": [
    "# dict is supported key indexing --->> to access values \n",
    "var = {67 : 45 , 90 : 12,34:67}\n",
    "print var\n",
    "print type(var)\n",
    "print var[90]\n",
    "var[90]= 450\n",
    "print var"
   ]
  },
  {
   "cell_type": "code",
   "execution_count": 8,
   "metadata": {},
   "outputs": [
    {
     "name": "stdout",
     "output_type": "stream",
     "text": [
      "{90: 560, 67: 45, 34: 67}\n",
      "<type 'dict'>\n"
     ]
    }
   ],
   "source": [
    "# dict is not allows the duplicate keys \n",
    "var = {67 : 45 ,  90 : 12, 34:67 , 90:560}\n",
    "print var\n",
    "print type(var)"
   ]
  },
  {
   "cell_type": "code",
   "execution_count": 9,
   "metadata": {},
   "outputs": [
    {
     "name": "stdout",
     "output_type": "stream",
     "text": [
      "{90: 12, 67: 45, 34: 67}\n",
      "{}\n"
     ]
    }
   ],
   "source": [
    "var = {67 : 45 , 90 : 12,34:67}\n",
    "print var\n",
    "var.clear()\n",
    "print var"
   ]
  },
  {
   "cell_type": "code",
   "execution_count": 10,
   "metadata": {},
   "outputs": [
    {
     "name": "stdout",
     "output_type": "stream",
     "text": [
      "{90: 12, 67: 45, 34: 67}\n",
      "{90: 12, 67: 45, 34: 67}\n",
      "{90: 12, 67: 45, 34: 67}\n",
      "{90: 12, 67: 45, 100: 400, 34: 67}\n"
     ]
    }
   ],
   "source": [
    "var = {67 : 45 , 90 : 12,34:67}\n",
    "b = var.copy()\n",
    "print var\n",
    "print b\n",
    "b[100]=400\n",
    "print var\n",
    "print b"
   ]
  },
  {
   "cell_type": "code",
   "execution_count": 11,
   "metadata": {},
   "outputs": [
    {
     "name": "stdout",
     "output_type": "stream",
     "text": [
      "{90: 12, 67: 45, 34: 67}\n",
      "{90: 12, 67: 45, 34: 67}\n",
      "{90: 12, 67: 45, 100: 400, 34: 67}\n",
      "{90: 12, 67: 45, 100: 400, 34: 67}\n"
     ]
    }
   ],
   "source": [
    "var = {67 : 45 , 90 : 12,34:67}\n",
    "b = var\n",
    "print var\n",
    "print b\n",
    "b[100]=400\n",
    "print var\n",
    "print b"
   ]
  },
  {
   "cell_type": "code",
   "execution_count": 12,
   "metadata": {},
   "outputs": [
    {
     "name": "stdout",
     "output_type": "stream",
     "text": [
      "{90: 12, 67: 45, 34: 67}\n",
      "[90, 67, 34]\n",
      "[12, 45, 67]\n",
      "[(90, 12), (67, 45), (34, 67)]\n",
      "dict_keys([90, 67, 34])\n",
      "dict_values([12, 45, 67])\n",
      "dict_items([(90, 12), (67, 45), (34, 67)])\n"
     ]
    }
   ],
   "source": [
    "var = {67 : 45 , 90 : 12,34:67}\n",
    "print var\n",
    "print var.keys()\n",
    "print var.values()\n",
    "print var.items()\n",
    "print var.viewkeys()\n",
    "print var.viewvalues()\n",
    "print var.viewitems()"
   ]
  },
  {
   "cell_type": "code",
   "execution_count": 13,
   "metadata": {},
   "outputs": [
    {
     "name": "stdout",
     "output_type": "stream",
     "text": [
      "{90: 12, 67: 45, 34: 67}\n",
      "{89: 56, 90: 12, 67: 45, 34: 67, 23: 78}\n"
     ]
    }
   ],
   "source": [
    "var = {67 : 45 , 90 : 12, 34:67}\n",
    "b = {89:56 , 23 : 78}\n",
    "print var\n",
    "var.update(b)\n",
    "print var"
   ]
  },
  {
   "cell_type": "code",
   "execution_count": 14,
   "metadata": {},
   "outputs": [
    {
     "name": "stdout",
     "output_type": "stream",
     "text": [
      "{89: 56, 90: 12, 67: 45, 34: 67, 23: 78}\n",
      "12\n",
      "{89: 56, 67: 45, 34: 67, 23: 78}\n"
     ]
    }
   ],
   "source": [
    "var = {89: 56, 90: 12, 67: 45, 34: 67, 23: 78}\n",
    "print var\n",
    "print var.pop(90) # return value and remove \n",
    "print var\n"
   ]
  },
  {
   "cell_type": "code",
   "execution_count": 15,
   "metadata": {},
   "outputs": [
    {
     "name": "stdout",
     "output_type": "stream",
     "text": [
      "{89: 56, 90: 12, 67: 45, 34: 67, 23: 78}\n",
      "(89, 56)\n",
      "{90: 12, 67: 45, 34: 67, 23: 78}\n"
     ]
    }
   ],
   "source": [
    "var = {89: 56, 90: 12, 67: 45, 34: 67, 23: 78}\n",
    "print var\n",
    "print var.popitem() # return item and remove \n",
    "print var\n"
   ]
  },
  {
   "cell_type": "code",
   "execution_count": 16,
   "metadata": {},
   "outputs": [
    {
     "name": "stdout",
     "output_type": "stream",
     "text": [
      "{89: 56, 90: 12, 67: 45, 34: 67, 23: 78}\n",
      "12\n",
      "{89: 56, 90: 12, 67: 45, 34: 67, 23: 78}\n"
     ]
    }
   ],
   "source": [
    "var = {89: 56, 90: 12, 67: 45, 34: 67, 23: 78}\n",
    "print var\n",
    "print var.get(90) # return value \n",
    "print var\n"
   ]
  },
  {
   "cell_type": "code",
   "execution_count": null,
   "metadata": {},
   "outputs": [],
   "source": []
  }
 ],
 "metadata": {
  "kernelspec": {
   "display_name": "Python 2",
   "language": "python",
   "name": "python2"
  },
  "language_info": {
   "codemirror_mode": {
    "name": "ipython",
    "version": 2
   },
   "file_extension": ".py",
   "mimetype": "text/x-python",
   "name": "python",
   "nbconvert_exporter": "python",
   "pygments_lexer": "ipython2",
   "version": "2.7.16"
  }
 },
 "nbformat": 4,
 "nbformat_minor": 2
}
