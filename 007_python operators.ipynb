{
 "cells": [
  {
   "cell_type": "code",
   "execution_count": 1,
   "metadata": {},
   "outputs": [
    {
     "name": "stdout",
     "output_type": "stream",
     "text": [
      "10\n",
      "-20\n",
      "False\n",
      "-21\n"
     ]
    }
   ],
   "source": [
    "#operator \n",
    "'''\n",
    "--->>>the symbols are used for to do the data processing ( operations) on operands\n",
    "'''\n",
    "# operands \n",
    "'''\n",
    "---> The data we are using for operations \n",
    "'''\n",
    "# operations \n",
    "'''\n",
    "--->>The procedure for the data processing\n",
    "'''\n",
    "## Based on 2 ways \n",
    "'''\n",
    "1. Based on operands \n",
    "        -->> Based on the on no of operands \n",
    "        1. Unary operator ------>>>>  the operator which is operating on single operand \n",
    "        2. Binary Operator------>> the operator which is operating on two operands \n",
    "\n",
    "2. Based on Operations\n",
    "        # arithmetic operators\n",
    "        # relational operators\n",
    "        # logical operators\n",
    "        # assignment operators\n",
    "        # special operators\n",
    "        # Bitwise operators\n",
    "\n",
    "'''\n",
    "# unanry operators examples\n",
    "a = 10\n",
    "b = 20\n",
    "print +a# unary plus\n",
    "print -b# unary minus\n",
    "print not a# logical not \n",
    "print ~b # bitwise not "
   ]
  },
  {
   "cell_type": "code",
   "execution_count": 2,
   "metadata": {},
   "outputs": [
    {
     "name": "stdout",
     "output_type": "stream",
     "text": [
      "30\n",
      "-10\n",
      "True\n",
      "False\n"
     ]
    }
   ],
   "source": [
    "# binary operators examples\n",
    "a =10\n",
    "b =20\n",
    "print a + b\n",
    "print a - b\n",
    "print a < b\n",
    "print a == b"
   ]
  },
  {
   "cell_type": "code",
   "execution_count": 4,
   "metadata": {},
   "outputs": [
    {
     "name": "stdout",
     "output_type": "stream",
     "text": [
      "enter int : 45\n",
      "enter int : 2\n",
      "45  +  2  =  47\n",
      "45  -  2  =  43\n",
      "45  *  2  =  90\n",
      "45  /  2  =  22\n",
      "45  %  2  =  1\n"
     ]
    }
   ],
   "source": [
    "# arithmetic operators\n",
    "'''\n",
    "addition       +\n",
    "subtraction    -\n",
    "multiplication *\n",
    "division       /\n",
    "modulus        %\n",
    "'''\n",
    "a = input(\"enter int : \")\n",
    "b = input(\"enter int : \")\n",
    "print a, \" + \",b,\" = \",a+b\n",
    "print a, \" - \",b,\" = \",a-b\n",
    "print a, \" * \",b,\" = \",a*b\n",
    "print a, \" / \",b,\" = \",a/b\n",
    "print a, \" % \",b,\" = \",a%b"
   ]
  },
  {
   "cell_type": "code",
   "execution_count": 5,
   "metadata": {},
   "outputs": [
    {
     "name": "stdout",
     "output_type": "stream",
     "text": [
      "enter float : 45.0\n",
      "enter float : 2.0\n",
      "45.0  +  2.0  =  47.0\n",
      "45.0  -  2.0  =  43.0\n",
      "45.0  *  2.0  =  90.0\n",
      "45.0  /  2.0  =  22.5\n",
      "45.0  %  2.0  =  1.0\n"
     ]
    }
   ],
   "source": [
    "a = input(\"enter float : \")\n",
    "b = input(\"enter float : \")\n",
    "print a, \" + \",b,\" = \",a+b\n",
    "print a, \" - \",b,\" = \",a-b\n",
    "print a, \" * \",b,\" = \",a*b\n",
    "print a, \" / \",b,\" = \",a/b\n",
    "print a, \" % \",b,\" = \",a%b"
   ]
  },
  {
   "cell_type": "code",
   "execution_count": 6,
   "metadata": {},
   "outputs": [
    {
     "name": "stdout",
     "output_type": "stream",
     "text": [
      "enter int : 45\n",
      "enter int : 2\n",
      "45  /  2  =  22\n",
      "45  //  2  =  22\n"
     ]
    }
   ],
   "source": [
    "# floor divisin   //\n",
    "# division         /\n",
    "a = input(\"enter int : \")\n",
    "b = input(\"enter int : \")\n",
    "print a, \" / \",b,\" = \",a/b\n",
    "print a, \" // \",b,\" = \",a//b\n"
   ]
  },
  {
   "cell_type": "code",
   "execution_count": 7,
   "metadata": {},
   "outputs": [
    {
     "name": "stdout",
     "output_type": "stream",
     "text": [
      "enter float : 45.0\n",
      "enter float : 2.0\n",
      "45.0  /  2.0  =  22.5\n",
      "45.0  //  2.0  =  22.0\n"
     ]
    }
   ],
   "source": [
    "# floor divisin   //\n",
    "# division         /\n",
    "a = input(\"enter float : \")\n",
    "b = input(\"enter float : \")\n",
    "print a, \" / \",b,\" = \",a/b\n",
    "print a, \" // \",b,\" = \",a//b\n"
   ]
  },
  {
   "cell_type": "code",
   "execution_count": 11,
   "metadata": {},
   "outputs": [
    {
     "name": "stdout",
     "output_type": "stream",
     "text": [
      "enter int : 16\n",
      "enter int : 0.5\n",
      "16  *  0.5  =  8.0\n",
      "16  **  0.5  =  4.0\n"
     ]
    }
   ],
   "source": [
    "# exponant  **\n",
    "# multiplication *\n",
    "\n",
    "a = input(\"enter int : \")\n",
    "b = input(\"enter int : \")\n",
    "print a, \" * \",b,\" = \",a*b\n",
    "print a, \" ** \",b,\" = \",a**b# a power of b\n"
   ]
  },
  {
   "cell_type": "code",
   "execution_count": 12,
   "metadata": {},
   "outputs": [
    {
     "name": "stdout",
     "output_type": "stream",
     "text": [
      "enter int : 45\n",
      "enter int : 5\n",
      "45  <  5  =  False\n",
      "45  >  5  =  True\n",
      "45  ==  5  =  False\n",
      "45  !=   5  =  True\n",
      "45  <=  5  =  False\n",
      "45  >=  5  =  True\n"
     ]
    }
   ],
   "source": [
    "# relational operators\n",
    "'''\n",
    "--->> relationship b/w 2 operands\n",
    "--->> compare the 2 operands\n",
    "--->> True/False  --->> boolean operators\n",
    "--->> conditional operators\n",
    "<\n",
    ">\n",
    "==\n",
    "!=\n",
    "<=\n",
    ">=\n",
    "'''\n",
    "a = input(\"enter int : \")\n",
    "b = input(\"enter int : \")\n",
    "print a, \" < \",b,\" = \",a < b\n",
    "print a, \" > \",b,\" = \",a > b\n",
    "print a, \" == \",b,\" = \",a == b\n",
    "print a, \" !=  \",b,\" = \",a != b\n",
    "print a, \" <= \",b,\" = \",a  <= b\n",
    "print a, \" >= \",b,\" = \",a  >= b"
   ]
  },
  {
   "cell_type": "code",
   "execution_count": 13,
   "metadata": {},
   "outputs": [
    {
     "name": "stdout",
     "output_type": "stream",
     "text": [
      "10\n",
      "10\n",
      "-12\n"
     ]
    }
   ],
   "source": [
    "# Assignment operators = \n",
    "a  =10 # constant to variable\n",
    "b  = a # variable to variable\n",
    "c  = a-4*2+1-45/3# expression to variable\n",
    "print a\n",
    "print b\n",
    "print c"
   ]
  },
  {
   "cell_type": "code",
   "execution_count": 14,
   "metadata": {},
   "outputs": [
    {
     "name": "stdout",
     "output_type": "stream",
     "text": [
      "20\n",
      "10\n",
      "30\n",
      "10\n"
     ]
    }
   ],
   "source": [
    "#compound assignment\n",
    "a  = 20\n",
    "b  = 10\n",
    "print a\n",
    "print b\n",
    "a = a + b# addition then update\n",
    "print a\n",
    "print b"
   ]
  },
  {
   "cell_type": "code",
   "execution_count": 15,
   "metadata": {},
   "outputs": [
    {
     "name": "stdout",
     "output_type": "stream",
     "text": [
      "20\n",
      "10\n",
      "30\n",
      "10\n"
     ]
    }
   ],
   "source": [
    "#compound assignment\n",
    "a  = 20\n",
    "b  = 10\n",
    "print a\n",
    "print b\n",
    "a +=   b  # a = a + b  # addition then update\n",
    "print a\n",
    "print b"
   ]
  },
  {
   "cell_type": "code",
   "execution_count": null,
   "metadata": {},
   "outputs": [],
   "source": [
    "#addition then update \n",
    "# subtraction then update\n",
    "# multiplication then update\n",
    "# division then update\n",
    "# floor division then update\n",
    "# modulus then update"
   ]
  },
  {
   "cell_type": "code",
   "execution_count": 16,
   "metadata": {},
   "outputs": [
    {
     "name": "stdout",
     "output_type": "stream",
     "text": [
      "enter side in meters : 5\n",
      "area of sqaure :  25 sq . m when side is  5  meters\n",
      "perimeter of sqaure :  20 meters when side is  5  meters\n"
     ]
    }
   ],
   "source": [
    "# wap find the area and perimeter of square\n",
    "side = input(\"enter side in meters : \")\n",
    "area  = side ** 2\n",
    "print \"area of sqaure : \",area,\"sq . m when side is \",side,\" meters\"\n",
    "peri = 4 * side\n",
    "print \"perimeter of sqaure : \",peri,\"meters when side is \",side,\" meters\""
   ]
  },
  {
   "cell_type": "code",
   "execution_count": 2,
   "metadata": {},
   "outputs": [
    {
     "name": "stdout",
     "output_type": "stream",
     "text": [
      "enter  P : 10000\n",
      "time in maths : 24\n",
      "enter rate : 2\n",
      "SI :  4800\n"
     ]
    }
   ],
   "source": [
    "# wap find the area and perimeter of rectangle\n",
    "# wap find the area and perimeter of  triangle\n",
    "# wap find the area and perimeter of circle\n",
    "# wap find the area and volume  of cube\n",
    "# wap find the simple intrest \n",
    "P =input(\"enter  P : \")\n",
    "T =input(\"time in maths : \")\n",
    "R =input(\"enter rate : \")\n",
    "SI = ( P * T * R ) /100 \n",
    "print \"SI : \",SI"
   ]
  },
  {
   "cell_type": "code",
   "execution_count": 3,
   "metadata": {},
   "outputs": [
    {
     "name": "stdout",
     "output_type": "stream",
     "text": [
      "True\n",
      "False\n",
      "False\n",
      "True\n"
     ]
    }
   ],
   "source": [
    "# special operators  --->> True / False\n",
    "'''\n",
    "--->> Membership operator\n",
    "    1. To check an element which is available with in group of elements or not\n",
    "    \n",
    "        1. in \n",
    "        \n",
    "            True --->> available\n",
    "            False -->> not available\n",
    "        2. not in \n",
    "                    False --->> available\n",
    "                    True -->> not available\n",
    "            \n",
    "        \n",
    "--->> Identity operator\n",
    "        -->> check the memory loc are same or not\n",
    "        is\n",
    "            True --->> same\n",
    "            False--->> different\n",
    "        is not \n",
    "            True ---> different\n",
    "            False --> same\n",
    "\n",
    "'''\n",
    "a = [12,90,34,89]\n",
    "b = 34\n",
    "c = 100\n",
    "print  b in a\n",
    "print  b not in a\n",
    "print c in a\n",
    "print c not in a"
   ]
  },
  {
   "cell_type": "code",
   "execution_count": 7,
   "metadata": {},
   "outputs": [
    {
     "name": "stdout",
     "output_type": "stream",
     "text": [
      "64752072\n",
      "72493256\n",
      "False\n",
      "True\n"
     ]
    }
   ],
   "source": [
    "a = [1,2,3,4]\n",
    "b = [1,2,3,4]\n",
    "#print a == b\n",
    "print id(a)\n",
    "print id(b)\n",
    "print a is b\n",
    "print a is not b"
   ]
  },
  {
   "cell_type": "code",
   "execution_count": 8,
   "metadata": {},
   "outputs": [
    {
     "name": "stdout",
     "output_type": "stream",
     "text": [
      "71138120\n",
      "71138120\n",
      "True\n",
      "False\n"
     ]
    }
   ],
   "source": [
    "a = [1,2,3,4]\n",
    "b = a\n",
    "#print a == b\n",
    "print id(a)\n",
    "print id(b)\n",
    "print a is b\n",
    "print a is not b"
   ]
  },
  {
   "cell_type": "code",
   "execution_count": 9,
   "metadata": {},
   "outputs": [
    {
     "name": "stdout",
     "output_type": "stream",
     "text": [
      "12\n",
      "23\n",
      "0.01\n",
      "None\n"
     ]
    }
   ],
   "source": [
    "#logical operator\n",
    "'''\n",
    "1. logical or   ---->>   or\n",
    "2. logical and  ---->>   and\n",
    "3. logical not  ---->>   not\n",
    "'''\n",
    "# int       0 ---> False   , +ve/-ve --> True\n",
    "# float     0.0 --> False  , +ve/-ve  --> True\n",
    "# complex   0 + 0j --> False , ow   ----> True\n",
    "# None   ---> False\n",
    "# str , list, set, tuple,dict --->> len of it  is 0 --->> False\n",
    "\n",
    "# logical or \n",
    "'''\n",
    "ip1  or ip2  ---->>> ip1/ip2\n",
    "\n",
    "res --->> ip1   --->>> ip1 is True case\n",
    "\n",
    "res --->> ip2   --->>   ip1 is False case\n",
    "\n",
    "'''\n",
    "print 12  or 78  #12\n",
    "print []  or 23  # 23\n",
    "print 0.01 or [] # 0.01\n",
    "print {} or None # None"
   ]
  },
  {
   "cell_type": "code",
   "execution_count": 10,
   "metadata": {},
   "outputs": [
    {
     "name": "stdout",
     "output_type": "stream",
     "text": [
      "78\n",
      "[]\n",
      "[]\n",
      "{}\n"
     ]
    }
   ],
   "source": [
    "# logical AND\n",
    "'''\n",
    "ip1  and ip2  ---->>> ip1/ip2\n",
    "\n",
    "res --->> ip1   --->>> ip1 is False case\n",
    "\n",
    "res --->> ip2   --->>   ip1 is True case\n",
    "\n",
    "'''\n",
    "print 12  and 78  # 78\n",
    "print []  and 23  # []\n",
    "print 0.01 and [] # []\n",
    "print {} and  None # {}"
   ]
  },
  {
   "cell_type": "code",
   "execution_count": 11,
   "metadata": {},
   "outputs": [
    {
     "name": "stdout",
     "output_type": "stream",
     "text": [
      "True\n",
      "False\n"
     ]
    }
   ],
   "source": [
    "#logical not  --->> not  --->> True/ False\n",
    "'''\n",
    "not ip\n",
    "\n",
    "res ---> True  ,   ip --->> False case\n",
    "res ---> False ,   ip  ---> True case\n",
    "'''\n",
    "print not [] # True\n",
    "print not 0.01# False"
   ]
  },
  {
   "cell_type": "code",
   "execution_count": 13,
   "metadata": {},
   "outputs": [
    {
     "name": "stdout",
     "output_type": "stream",
     "text": [
      "enter number : 20\n",
      "False\n"
     ]
    }
   ],
   "source": [
    "# wap find the given number is divisble by both 3 and 5  or not\n",
    "num = input(\"enter number : \")\n",
    "print (num%3 == 0) and (num%5 == 0)\n"
   ]
  },
  {
   "cell_type": "code",
   "execution_count": null,
   "metadata": {},
   "outputs": [],
   "source": [
    "# wap find the len of seq is even and divisble by 3 or not "
   ]
  },
  {
   "cell_type": "code",
   "execution_count": 3,
   "metadata": {},
   "outputs": [
    {
     "name": "stdout",
     "output_type": "stream",
     "text": [
      "47\n",
      "63\n",
      "7\n"
     ]
    }
   ],
   "source": [
    "# number system conversion\n",
    "# bitwise or   |\n",
    "print 45 | 34\n",
    "print 23 | 42\n",
    "print 5  | 6"
   ]
  },
  {
   "cell_type": "code",
   "execution_count": 5,
   "metadata": {},
   "outputs": [
    {
     "name": "stdout",
     "output_type": "stream",
     "text": [
      "32\n",
      "2\n"
     ]
    }
   ],
   "source": [
    "# bitwise and  &\n",
    "print 45 &  34\n",
    "print 42 & 23"
   ]
  },
  {
   "cell_type": "code",
   "execution_count": 7,
   "metadata": {},
   "outputs": [
    {
     "name": "stdout",
     "output_type": "stream",
     "text": [
      "26\n",
      "61\n"
     ]
    }
   ],
   "source": [
    "# bitwise XOR ^\n",
    "print  56 ^ 34\n",
    "print 42 ^ 23"
   ]
  },
  {
   "cell_type": "code",
   "execution_count": 8,
   "metadata": {},
   "outputs": [
    {
     "name": "stdout",
     "output_type": "stream",
     "text": [
      "80\n",
      "320\n"
     ]
    }
   ],
   "source": [
    "# bitwise leftshift\n",
    "print 10 << 3\n",
    "print 40 << 3"
   ]
  },
  {
   "cell_type": "code",
   "execution_count": 9,
   "metadata": {},
   "outputs": [
    {
     "name": "stdout",
     "output_type": "stream",
     "text": [
      "5\n",
      "5\n"
     ]
    }
   ],
   "source": [
    "# bitwise rightshift\n",
    "print  23 >> 2\n",
    "print 45 >>3"
   ]
  },
  {
   "cell_type": "code",
   "execution_count": 12,
   "metadata": {},
   "outputs": [
    {
     "name": "stdout",
     "output_type": "stream",
     "text": [
      "-35\n",
      "-91\n",
      "-6\n"
     ]
    }
   ],
   "source": [
    "print ~ 34\n",
    "print ~90\n",
    "print ~ 5"
   ]
  },
  {
   "cell_type": "code",
   "execution_count": null,
   "metadata": {},
   "outputs": [],
   "source": []
  },
  {
   "cell_type": "code",
   "execution_count": null,
   "metadata": {},
   "outputs": [],
   "source": []
  },
  {
   "cell_type": "code",
   "execution_count": null,
   "metadata": {},
   "outputs": [],
   "source": []
  },
  {
   "cell_type": "code",
   "execution_count": null,
   "metadata": {},
   "outputs": [],
   "source": []
  },
  {
   "cell_type": "code",
   "execution_count": null,
   "metadata": {},
   "outputs": [],
   "source": []
  },
  {
   "cell_type": "code",
   "execution_count": null,
   "metadata": {},
   "outputs": [],
   "source": []
  },
  {
   "cell_type": "code",
   "execution_count": null,
   "metadata": {},
   "outputs": [],
   "source": []
  },
  {
   "cell_type": "code",
   "execution_count": null,
   "metadata": {},
   "outputs": [],
   "source": []
  },
  {
   "cell_type": "code",
   "execution_count": null,
   "metadata": {},
   "outputs": [],
   "source": []
  }
 ],
 "metadata": {
  "kernelspec": {
   "display_name": "Python 2",
   "language": "python",
   "name": "python2"
  },
  "language_info": {
   "codemirror_mode": {
    "name": "ipython",
    "version": 2
   },
   "file_extension": ".py",
   "mimetype": "text/x-python",
   "name": "python",
   "nbconvert_exporter": "python",
   "pygments_lexer": "ipython2",
   "version": "2.7.16"
  }
 },
 "nbformat": 4,
 "nbformat_minor": 2
}
