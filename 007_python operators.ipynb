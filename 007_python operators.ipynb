{
 "cells": [
  {
   "cell_type": "code",
   "execution_count": 1,
   "metadata": {},
   "outputs": [
    {
     "name": "stdout",
     "output_type": "stream",
     "text": [
      "10\n",
      "-20\n",
      "False\n",
      "-21\n"
     ]
    }
   ],
   "source": [
    "#operator \n",
    "'''\n",
    "--->>>the symbols are used for to do the data processing ( operations) on operands\n",
    "'''\n",
    "# operands \n",
    "'''\n",
    "---> The data we are using for operations \n",
    "'''\n",
    "# operations \n",
    "'''\n",
    "--->>The procedure for the data processing\n",
    "'''\n",
    "## Based on 2 ways \n",
    "'''\n",
    "1. Based on operands \n",
    "        -->> Based on the on no of operands \n",
    "        1. Unary operator ------>>>>  the operator which is operating on single operand \n",
    "        2. Binary Operator------>> the operator which is operating on two operands \n",
    "\n",
    "2. Based on Operations\n",
    "        # arithmetic operators\n",
    "        # relational operators\n",
    "        # logical operators\n",
    "        # assignment operators\n",
    "        # special operators\n",
    "        # Bitwise operators\n",
    "\n",
    "'''\n",
    "# unanry operators examples\n",
    "a = 10\n",
    "b = 20\n",
    "print +a# unary plus\n",
    "print -b# unary minus\n",
    "print not a# logical not \n",
    "print ~b # bitwise not "
   ]
  },
  {
   "cell_type": "code",
   "execution_count": 2,
   "metadata": {},
   "outputs": [
    {
     "name": "stdout",
     "output_type": "stream",
     "text": [
      "30\n",
      "-10\n",
      "True\n",
      "False\n"
     ]
    }
   ],
   "source": [
    "# binary operators examples\n",
    "a =10\n",
    "b =20\n",
    "print a + b\n",
    "print a - b\n",
    "print a < b\n",
    "print a == b"
   ]
  },
  {
   "cell_type": "code",
   "execution_count": 4,
   "metadata": {},
   "outputs": [
    {
     "name": "stdout",
     "output_type": "stream",
     "text": [
      "enter int : 45\n",
      "enter int : 2\n",
      "45  +  2  =  47\n",
      "45  -  2  =  43\n",
      "45  *  2  =  90\n",
      "45  /  2  =  22\n",
      "45  %  2  =  1\n"
     ]
    }
   ],
   "source": [
    "# arithmetic operators\n",
    "'''\n",
    "addition       +\n",
    "subtraction    -\n",
    "multiplication *\n",
    "division       /\n",
    "modulus        %\n",
    "'''\n",
    "a = input(\"enter int : \")\n",
    "b = input(\"enter int : \")\n",
    "print a, \" + \",b,\" = \",a+b\n",
    "print a, \" - \",b,\" = \",a-b\n",
    "print a, \" * \",b,\" = \",a*b\n",
    "print a, \" / \",b,\" = \",a/b\n",
    "print a, \" % \",b,\" = \",a%b"
   ]
  },
  {
   "cell_type": "code",
   "execution_count": 5,
   "metadata": {},
   "outputs": [
    {
     "name": "stdout",
     "output_type": "stream",
     "text": [
      "enter float : 45.0\n",
      "enter float : 2.0\n",
      "45.0  +  2.0  =  47.0\n",
      "45.0  -  2.0  =  43.0\n",
      "45.0  *  2.0  =  90.0\n",
      "45.0  /  2.0  =  22.5\n",
      "45.0  %  2.0  =  1.0\n"
     ]
    }
   ],
   "source": [
    "a = input(\"enter float : \")\n",
    "b = input(\"enter float : \")\n",
    "print a, \" + \",b,\" = \",a+b\n",
    "print a, \" - \",b,\" = \",a-b\n",
    "print a, \" * \",b,\" = \",a*b\n",
    "print a, \" / \",b,\" = \",a/b\n",
    "print a, \" % \",b,\" = \",a%b"
   ]
  },
  {
   "cell_type": "code",
   "execution_count": 6,
   "metadata": {},
   "outputs": [
    {
     "name": "stdout",
     "output_type": "stream",
     "text": [
      "enter int : 45\n",
      "enter int : 2\n",
      "45  /  2  =  22\n",
      "45  //  2  =  22\n"
     ]
    }
   ],
   "source": [
    "# floor divisin   //\n",
    "# division         /\n",
    "a = input(\"enter int : \")\n",
    "b = input(\"enter int : \")\n",
    "print a, \" / \",b,\" = \",a/b\n",
    "print a, \" // \",b,\" = \",a//b\n"
   ]
  },
  {
   "cell_type": "code",
   "execution_count": 7,
   "metadata": {},
   "outputs": [
    {
     "name": "stdout",
     "output_type": "stream",
     "text": [
      "enter float : 45.0\n",
      "enter float : 2.0\n",
      "45.0  /  2.0  =  22.5\n",
      "45.0  //  2.0  =  22.0\n"
     ]
    }
   ],
   "source": [
    "# floor divisin   //\n",
    "# division         /\n",
    "a = input(\"enter float : \")\n",
    "b = input(\"enter float : \")\n",
    "print a, \" / \",b,\" = \",a/b\n",
    "print a, \" // \",b,\" = \",a//b\n"
   ]
  },
  {
   "cell_type": "code",
   "execution_count": 11,
   "metadata": {},
   "outputs": [
    {
     "name": "stdout",
     "output_type": "stream",
     "text": [
      "enter int : 16\n",
      "enter int : 0.5\n",
      "16  *  0.5  =  8.0\n",
      "16  **  0.5  =  4.0\n"
     ]
    }
   ],
   "source": [
    "# exponant  **\n",
    "# multiplication *\n",
    "\n",
    "a = input(\"enter int : \")\n",
    "b = input(\"enter int : \")\n",
    "print a, \" * \",b,\" = \",a*b\n",
    "print a, \" ** \",b,\" = \",a**b# a power of b\n"
   ]
  },
  {
   "cell_type": "code",
   "execution_count": 12,
   "metadata": {},
   "outputs": [
    {
     "name": "stdout",
     "output_type": "stream",
     "text": [
      "enter int : 45\n",
      "enter int : 5\n",
      "45  <  5  =  False\n",
      "45  >  5  =  True\n",
      "45  ==  5  =  False\n",
      "45  !=   5  =  True\n",
      "45  <=  5  =  False\n",
      "45  >=  5  =  True\n"
     ]
    }
   ],
   "source": [
    "# relational operators\n",
    "'''\n",
    "--->> relationship b/w 2 operands\n",
    "--->> compare the 2 operands\n",
    "--->> True/False  --->> boolean operators\n",
    "--->> conditional operators\n",
    "<\n",
    ">\n",
    "==\n",
    "!=\n",
    "<=\n",
    ">=\n",
    "'''\n",
    "a = input(\"enter int : \")\n",
    "b = input(\"enter int : \")\n",
    "print a, \" < \",b,\" = \",a < b\n",
    "print a, \" > \",b,\" = \",a > b\n",
    "print a, \" == \",b,\" = \",a == b\n",
    "print a, \" !=  \",b,\" = \",a != b\n",
    "print a, \" <= \",b,\" = \",a  <= b\n",
    "print a, \" >= \",b,\" = \",a  >= b"
   ]
  },
  {
   "cell_type": "code",
   "execution_count": 13,
   "metadata": {},
   "outputs": [
    {
     "name": "stdout",
     "output_type": "stream",
     "text": [
      "10\n",
      "10\n",
      "-12\n"
     ]
    }
   ],
   "source": [
    "# Assignment operators = \n",
    "a  =10 # constant to variable\n",
    "b  = a # variable to variable\n",
    "c  = a-4*2+1-45/3# expression to variable\n",
    "print a\n",
    "print b\n",
    "print c"
   ]
  },
  {
   "cell_type": "code",
   "execution_count": 14,
   "metadata": {},
   "outputs": [
    {
     "name": "stdout",
     "output_type": "stream",
     "text": [
      "20\n",
      "10\n",
      "30\n",
      "10\n"
     ]
    }
   ],
   "source": [
    "#compound assignment\n",
    "a  = 20\n",
    "b  = 10\n",
    "print a\n",
    "print b\n",
    "a = a + b# addition then update\n",
    "print a\n",
    "print b"
   ]
  },
  {
   "cell_type": "code",
   "execution_count": 15,
   "metadata": {},
   "outputs": [
    {
     "name": "stdout",
     "output_type": "stream",
     "text": [
      "20\n",
      "10\n",
      "30\n",
      "10\n"
     ]
    }
   ],
   "source": [
    "#compound assignment\n",
    "a  = 20\n",
    "b  = 10\n",
    "print a\n",
    "print b\n",
    "a +=   b  # a = a + b  # addition then update\n",
    "print a\n",
    "print b"
   ]
  },
  {
   "cell_type": "code",
   "execution_count": null,
   "metadata": {},
   "outputs": [],
   "source": [
    "#addition then update \n",
    "# subtraction then update\n",
    "# multiplication then update\n",
    "# division then update\n",
    "# floor division then update\n",
    "# modulus then update"
   ]
  },
  {
   "cell_type": "code",
   "execution_count": 16,
   "metadata": {},
   "outputs": [
    {
     "name": "stdout",
     "output_type": "stream",
     "text": [
      "enter side in meters : 5\n",
      "area of sqaure :  25 sq . m when side is  5  meters\n",
      "perimeter of sqaure :  20 meters when side is  5  meters\n"
     ]
    }
   ],
   "source": [
    "# wap find the area and perimeter of square\n",
    "side = input(\"enter side in meters : \")\n",
    "area  = side ** 2\n",
    "print \"area of sqaure : \",area,\"sq . m when side is \",side,\" meters\"\n",
    "peri = 4 * side\n",
    "print \"perimeter of sqaure : \",peri,\"meters when side is \",side,\" meters\""
   ]
  },
  {
   "cell_type": "code",
   "execution_count": null,
   "metadata": {},
   "outputs": [],
   "source": [
    "# wap find the area and perimeter of rectangle\n",
    "# wap find the area and perimeter of  triangle\n",
    "# wap find the area and perimeter of circle\n",
    "# wap find the area and volume  of cube\n",
    "# wap find the simple intrest "
   ]
  }
 ],
 "metadata": {
  "kernelspec": {
   "display_name": "Python 2",
   "language": "python",
   "name": "python2"
  },
  "language_info": {
   "codemirror_mode": {
    "name": "ipython",
    "version": 2
   },
   "file_extension": ".py",
   "mimetype": "text/x-python",
   "name": "python",
   "nbconvert_exporter": "python",
   "pygments_lexer": "ipython2",
   "version": "2.7.16"
  }
 },
 "nbformat": 4,
 "nbformat_minor": 2
}
