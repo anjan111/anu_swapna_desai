{
 "cells": [
  {
   "cell_type": "markdown",
   "metadata": {},
   "source": [
    "# OOPL\n",
    "\n",
    "-->> If any PL which follows the following features \n",
    "\n",
    "1. Data Hiding \n",
    "\n",
    "2. Data encapulation\n",
    "\n",
    "3. Method Overridding / Overloading \n",
    "\n",
    "4. Operator Overridding / Overloading \n",
    "\n",
    "5. Polymorphsim\n",
    "\n",
    "6. Inhiratance\n",
    "\n",
    "#### OOPL components \n",
    "\n",
    "1. Class\n",
    "\n",
    "2. Object \n",
    "\n",
    "##### Class \n",
    "\n",
    "-->> its structure of an object\n",
    "\n",
    "-->> It is logical entity for an object\n",
    "\n",
    "-->> Template for an object\n",
    "\n",
    "-->> with single class we can create multiple objects \n",
    "\n",
    "-->> No need any memory loc\n",
    "\n",
    "-->> class is a keyowrd --> to create a class\n",
    "\n",
    "-->> Class name start with Upper case character\n",
    "\n",
    "-->> Class is collection objects attributes \n",
    "\n",
    "syntax :\n",
    "\n",
    "\n",
    "class   Classname( ):\n",
    "\n",
    "        Attributes\n",
    "        \n",
    "        ---------\n",
    "        \n",
    "        ----------\n",
    "        \n",
    "#### Object \n",
    "\n",
    "--->> Which is an instance of a class\n",
    "\n",
    "--->> Physical entity for an logical entity of a class\n",
    "\n",
    "--->> Object is needs the memory location\n",
    "\n",
    "syntax:\n",
    "\n",
    "obj1 =  Classname()\n",
    "\n",
    "obj2 =  Classname()\n",
    "\n",
    "obj3 =  Classname()"
   ]
  },
  {
   "cell_type": "code",
   "execution_count": 1,
   "metadata": {},
   "outputs": [
    {
     "name": "stdout",
     "output_type": "stream",
     "text": [
      "123\n",
      "56\n"
     ]
    }
   ],
   "source": [
    "#wap for class and object\n",
    "\n",
    "class ClassName():\n",
    "    var = 123\n",
    "obj1 = ClassName()\n",
    "print obj1.var\n",
    "obj1.var = 56\n",
    "print obj1.var"
   ]
  },
  {
   "cell_type": "code",
   "execution_count": 2,
   "metadata": {},
   "outputs": [
    {
     "name": "stdout",
     "output_type": "stream",
     "text": [
      "123\n",
      "123\n",
      "56\n",
      "123\n"
     ]
    }
   ],
   "source": [
    "class ClassName():\n",
    "    var = 123\n",
    "    \n",
    "obj1 = ClassName()\n",
    "obj2 = ClassName()\n",
    "print obj1.var\n",
    "print obj2.var\n",
    "obj1.var = 56\n",
    "\n",
    "print obj1.var\n",
    "print obj2.var"
   ]
  },
  {
   "cell_type": "code",
   "execution_count": 6,
   "metadata": {},
   "outputs": [
    {
     "name": "stdout",
     "output_type": "stream",
     "text": [
      "123\n",
      "enter var:789\n",
      "789\n"
     ]
    }
   ],
   "source": [
    "#methods \n",
    "'''\n",
    "The fucntions we have to define inside of class\n",
    "'''\n",
    "class ClassName():\n",
    "    var = 123\n",
    "    def fun(self):\n",
    "        print self.var\n",
    "    def mod(self):\n",
    "        self.var = input(\"enter var:\")\n",
    "obj1 = ClassName()\n",
    "\n",
    "obj1.fun()\n",
    "obj1.mod()\n",
    "obj1.fun()"
   ]
  },
  {
   "cell_type": "code",
   "execution_count": 7,
   "metadata": {},
   "outputs": [
    {
     "name": "stdout",
     "output_type": "stream",
     "text": [
      "123\n",
      "123\n",
      "enter var:789\n",
      "789\n",
      "123\n"
     ]
    }
   ],
   "source": [
    "class ClassName():\n",
    "    var = 123\n",
    "    def fun(self):\n",
    "        print self.var\n",
    "    def mod(self):\n",
    "        self.var = input(\"enter var:\")\n",
    "obj1 = ClassName()\n",
    "obj2 = ClassName()\n",
    "obj1.fun()\n",
    "obj2.fun()\n",
    "\n",
    "obj1.mod()\n",
    "\n",
    "obj1.fun()\n",
    "obj2.fun()\n"
   ]
  },
  {
   "cell_type": "code",
   "execution_count": 8,
   "metadata": {},
   "outputs": [
    {
     "name": "stdout",
     "output_type": "stream",
     "text": [
      "123\n",
      "enter var:456\n",
      "456\n"
     ]
    }
   ],
   "source": [
    "class ClassName():\n",
    "\n",
    "    def fun(self, var):\n",
    "        self.var = var\n",
    "    def mod(self):\n",
    "        self.var = input(\"enter var:\")\n",
    "        \n",
    "    def display(self):\n",
    "        print self.var\n",
    "obj1 = ClassName()\n",
    "obj1.fun(123)\n",
    "obj1.display()\n",
    "obj1.mod()\n",
    "obj1.display()"
   ]
  },
  {
   "cell_type": "code",
   "execution_count": 1,
   "metadata": {},
   "outputs": [
    {
     "name": "stdout",
     "output_type": "stream",
     "text": [
      "self :  <__main__.ClassName instance at 0x0000000005365FC8>\n",
      "self :  <__main__.ClassName instance at 0x0000000005205D48>\n",
      "self :  <__main__.ClassName instance at 0x0000000005205DC8>\n"
     ]
    }
   ],
   "source": [
    "# Constrcutor\n",
    "'''\n",
    "-->> It is a special Methods (automatically which can be executed)\n",
    "\n",
    "__init__\n",
    "\n",
    "--->>  __init__ can executes automatically whenever object is creating \n",
    "'''\n",
    "class ClassName():\n",
    "    def __init__(self):\n",
    "        print \"self : \",self\n",
    "obj1 = ClassName()\n",
    "obj2 = ClassName()\n",
    "obj3 = ClassName()\n"
   ]
  },
  {
   "cell_type": "code",
   "execution_count": 2,
   "metadata": {},
   "outputs": [
    {
     "name": "stdout",
     "output_type": "stream",
     "text": [
      "self :  <__main__.ClassName instance at 0x0000000005205F88>\n",
      "123\n",
      "self :  <__main__.ClassName instance at 0x00000000052058C8>\n",
      "456\n",
      "self :  <__main__.ClassName instance at 0x0000000005205F08>\n",
      "789\n"
     ]
    }
   ],
   "source": [
    "class ClassName():\n",
    "    def __init__(self,var):\n",
    "        print \"self : \",self\n",
    "        print var\n",
    "        self.var = var\n",
    "        \n",
    "        \n",
    "obj1 = ClassName(123)\n",
    "obj2 = ClassName(456)\n",
    "obj3 = ClassName(789)\n"
   ]
  },
  {
   "cell_type": "code",
   "execution_count": 7,
   "metadata": {},
   "outputs": [
    {
     "name": "stdout",
     "output_type": "stream",
     "text": [
      "self :  <__main__.ClassName instance at 0x0000000005365D48>\n",
      "self :  <__main__.ClassName instance at 0x0000000004CF9088>\n",
      "self :  <__main__.ClassName instance at 0x0000000004CF9148>\n",
      "self :  <__main__.ClassName instance at 0x00000000051FF988>\n",
      "self :  <__main__.ClassName instance at 0x0000000004CF9088>\n",
      "self :  <__main__.ClassName instance at 0x0000000004CF90C8>\n"
     ]
    }
   ],
   "source": [
    "# distructor\n",
    "'''\n",
    "-->> while deleting the objects \n",
    "\n",
    "__del__\n",
    "'''\n",
    "class ClassName():\n",
    "    def __init__(self,var):\n",
    "        print \"self : \",self\n",
    "\n",
    "\n",
    "        \n",
    "        \n",
    "obj1 = ClassName(123)\n",
    "obj2 = ClassName(456)\n",
    "obj3 = ClassName(789)\n",
    "#del obj1\n"
   ]
  },
  {
   "cell_type": "code",
   "execution_count": 26,
   "metadata": {},
   "outputs": [
    {
     "name": "stdout",
     "output_type": "stream",
     "text": [
      "self :  <__main__.Class instance at 0x0000000005368988>\n",
      "self\n",
      "self :  <__main__.Class instance at 0x00000000053684C8>\n",
      "self\n",
      "self :  <__main__.Class instance at 0x0000000005368A48>\n",
      "self\n",
      "self <__main__.Class instance at 0x0000000005368988>\n",
      "self <__main__.Class instance at 0x00000000053684C8>\n",
      "self <__main__.Class instance at 0x0000000005368A48>\n"
     ]
    }
   ],
   "source": [
    "class Class():\n",
    "    def __init__(self):\n",
    "        print \"self : \",self\n",
    "    def __del__(self):\n",
    "        print \"self\",self\n",
    "    \n",
    "obj1 = Class()\n",
    "obj2 = Class()\n",
    "obj3 = Class()\n",
    "del obj1\n",
    "del obj2\n",
    "del obj3"
   ]
  },
  {
   "cell_type": "code",
   "execution_count": 27,
   "metadata": {},
   "outputs": [
    {
     "name": "stdout",
     "output_type": "stream",
     "text": [
      "123\n"
     ]
    },
    {
     "ename": "AttributeError",
     "evalue": "Class instance has no attribute '__b'",
     "output_type": "error",
     "traceback": [
      "\u001b[1;31m---------------------------------------------------------------------------\u001b[0m",
      "\u001b[1;31mAttributeError\u001b[0m                            Traceback (most recent call last)",
      "\u001b[1;32m<ipython-input-27-1faac4f46ecd>\u001b[0m in \u001b[0;36m<module>\u001b[1;34m()\u001b[0m\n\u001b[0;32m      9\u001b[0m \u001b[0mobj\u001b[0m  \u001b[1;33m=\u001b[0m \u001b[0mClass\u001b[0m\u001b[1;33m(\u001b[0m\u001b[1;33m)\u001b[0m\u001b[1;33m\u001b[0m\u001b[0m\n\u001b[0;32m     10\u001b[0m \u001b[1;32mprint\u001b[0m \u001b[0mobj\u001b[0m\u001b[1;33m.\u001b[0m\u001b[0ma\u001b[0m\u001b[1;33m\u001b[0m\u001b[0m\n\u001b[1;32m---> 11\u001b[1;33m \u001b[1;32mprint\u001b[0m \u001b[0mobj\u001b[0m\u001b[1;33m.\u001b[0m\u001b[0m__b\u001b[0m\u001b[1;33m\u001b[0m\u001b[0m\n\u001b[0m",
      "\u001b[1;31mAttributeError\u001b[0m: Class instance has no attribute '__b'"
     ]
    }
   ],
   "source": [
    "# Data hiding :-\n",
    "'''\n",
    "-->> we can't access the class attributes outside of the class\n",
    "'''\n",
    "class Class():\n",
    "    a = 123 # public attribute\n",
    "    __b = 456# private attribute\n",
    "    \n",
    "obj  = Class()\n",
    "print obj.a\n",
    "print obj.__b"
   ]
  },
  {
   "cell_type": "code",
   "execution_count": 28,
   "metadata": {},
   "outputs": [
    {
     "name": "stdout",
     "output_type": "stream",
     "text": [
      "123\n",
      "456\n"
     ]
    }
   ],
   "source": [
    "# Data encapulation:-\n",
    "'''\n",
    "-->> we can access the private class attributes outside of the class\n",
    "'''\n",
    "class Class():\n",
    "    a = 123 # public attribute\n",
    "    __b = 456# private attribute\n",
    "    \n",
    "obj  = Class()\n",
    "print obj.a\n",
    "print obj._Class__b"
   ]
  },
  {
   "cell_type": "code",
   "execution_count": 29,
   "metadata": {},
   "outputs": [
    {
     "name": "stdout",
     "output_type": "stream",
     "text": [
      "2st method\n"
     ]
    }
   ],
   "source": [
    "#method overriding \n",
    "class Class():\n",
    "    def fun(self):\n",
    "        print \"1st method\"\n",
    "    def fun(self):\n",
    "        print \"2st method\" \n",
    "obj = Class()\n",
    "obj.fun()"
   ]
  },
  {
   "cell_type": "code",
   "execution_count": 30,
   "metadata": {},
   "outputs": [
    {
     "name": "stdout",
     "output_type": "stream",
     "text": [
      "2st method\n"
     ]
    },
    {
     "ename": "TypeError",
     "evalue": "fun() takes exactly 2 arguments (1 given)",
     "output_type": "error",
     "traceback": [
      "\u001b[1;31m---------------------------------------------------------------------------\u001b[0m",
      "\u001b[1;31mTypeError\u001b[0m                                 Traceback (most recent call last)",
      "\u001b[1;32m<ipython-input-30-ec722926fafd>\u001b[0m in \u001b[0;36m<module>\u001b[1;34m()\u001b[0m\n\u001b[0;32m      7\u001b[0m \u001b[0mobj\u001b[0m \u001b[1;33m=\u001b[0m \u001b[0mClass\u001b[0m\u001b[1;33m(\u001b[0m\u001b[1;33m)\u001b[0m\u001b[1;33m\u001b[0m\u001b[0m\n\u001b[0;32m      8\u001b[0m \u001b[0mobj\u001b[0m\u001b[1;33m.\u001b[0m\u001b[0mfun\u001b[0m\u001b[1;33m(\u001b[0m\u001b[1;36m123\u001b[0m\u001b[1;33m)\u001b[0m\u001b[1;33m\u001b[0m\u001b[0m\n\u001b[1;32m----> 9\u001b[1;33m \u001b[0mobj\u001b[0m\u001b[1;33m.\u001b[0m\u001b[0mfun\u001b[0m\u001b[1;33m(\u001b[0m\u001b[1;33m)\u001b[0m\u001b[1;33m\u001b[0m\u001b[0m\n\u001b[0m",
      "\u001b[1;31mTypeError\u001b[0m: fun() takes exactly 2 arguments (1 given)"
     ]
    }
   ],
   "source": [
    "#method overloading ---> its nt supported  \n",
    "class Class():\n",
    "    def fun(self):\n",
    "        print \"1st method\"\n",
    "    def fun(self,a):\n",
    "        print \"2st method\" \n",
    "obj = Class()\n",
    "obj.fun(123)\n",
    "obj.fun()"
   ]
  },
  {
   "cell_type": "code",
   "execution_count": 32,
   "metadata": {},
   "outputs": [
    {
     "name": "stdout",
     "output_type": "stream",
     "text": [
      "2st method\n",
      "1st method\n"
     ]
    }
   ],
   "source": [
    "#polymorphism ---> its not supported  \n",
    "class Class():\n",
    "    def fun(self):\n",
    "        print \"1st method\"\n",
    "class Class1():\n",
    "    def fun(self,a):\n",
    "        print \"2st method\" \n",
    "obj1 = Class()\n",
    "obj2 = Class1()\n",
    "obj2.fun(123)\n",
    "obj1.fun()"
   ]
  },
  {
   "cell_type": "code",
   "execution_count": 34,
   "metadata": {},
   "outputs": [
    {
     "name": "stdout",
     "output_type": "stream",
     "text": [
      "2st method\n",
      "1st method\n"
     ]
    }
   ],
   "source": [
    "#Inheritance  \n",
    "class Class():\n",
    "    def fun(self):\n",
    "        print \"1st method\"\n",
    "        \n",
    "class Class1(Class):\n",
    "    def fun2(self,a):\n",
    "        print \"2st method\" \n",
    "obj = Class1()\n",
    "obj.fun2(123)\n",
    "obj.fun()"
   ]
  },
  {
   "cell_type": "code",
   "execution_count": null,
   "metadata": {},
   "outputs": [],
   "source": []
  },
  {
   "cell_type": "code",
   "execution_count": null,
   "metadata": {},
   "outputs": [],
   "source": []
  },
  {
   "cell_type": "code",
   "execution_count": null,
   "metadata": {},
   "outputs": [],
   "source": []
  },
  {
   "cell_type": "code",
   "execution_count": null,
   "metadata": {},
   "outputs": [],
   "source": []
  },
  {
   "cell_type": "code",
   "execution_count": null,
   "metadata": {},
   "outputs": [],
   "source": []
  }
 ],
 "metadata": {
  "kernelspec": {
   "display_name": "Python 2",
   "language": "python",
   "name": "python2"
  },
  "language_info": {
   "codemirror_mode": {
    "name": "ipython",
    "version": 2
   },
   "file_extension": ".py",
   "mimetype": "text/x-python",
   "name": "python",
   "nbconvert_exporter": "python",
   "pygments_lexer": "ipython2",
   "version": "2.7.16"
  }
 },
 "nbformat": 4,
 "nbformat_minor": 2
}
