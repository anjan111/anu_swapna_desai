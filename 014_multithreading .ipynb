{
 "cells": [
  {
   "cell_type": "code",
   "execution_count": 1,
   "metadata": {},
   "outputs": [
    {
     "name": "stdout",
     "output_type": "stream",
     "text": [
      "start time  of main :  1582169448.56\n",
      "start time  of fun :  1582169448.57\n",
      "name :  Python\n",
      "name :  Python\n",
      "name :  Python\n",
      "name :  Python\n",
      "name :  Python\n",
      "name :  Python\n",
      "name :  Python\n",
      "name :  Python\n",
      "name :  Python\n",
      "name :  Python\n",
      "stop time  of fun :  1582169458.59\n",
      "*******\n",
      "start time  of fun :  1582169458.59\n",
      "name :  C\n",
      "name :  C\n",
      "name :  C\n",
      "name :  C\n",
      "name :  C\n",
      "name :  C\n",
      "name :  C\n",
      "name :  C\n",
      "name :  C\n",
      "name :  C\n",
      "stop time  of fun :  1582169468.6\n",
      "*******\n",
      "stop time  of main :  1582169468.6\n"
     ]
    }
   ],
   "source": [
    "### process \n",
    "'''\n",
    "--->>A program which is an execution mode\n",
    "'''\n",
    "#### Multiprocess\n",
    "'''\n",
    "--->> A cpu can execute multiple progras at a time \n",
    "'''\n",
    "### which needs more memory\n",
    "#Thread\n",
    "'''\n",
    "--->> Thread is a sub process  of a  main process\n",
    "--->> Thread can executes parallel to our program\n",
    "--->> Even the main process is killed , the thread can alive\n",
    "\n",
    "'''\n",
    "import time\n",
    "print \"start time  of main : \",time.time()\n",
    "def fun(name = \"anjan\"):\n",
    "    print \"start time  of fun : \",time.time()\n",
    "    for i in range(10):\n",
    "        print \"name : \",name\n",
    "        time.sleep(1)\n",
    "    print \"stop time  of fun : \",time.time()\n",
    "fun(\"Python\")\n",
    "print \"*******\"\n",
    "fun(\"C\")\n",
    "print \"*******\"\n",
    "print \"stop time  of main : \",time.time()"
   ]
  },
  {
   "cell_type": "code",
   "execution_count": 2,
   "metadata": {},
   "outputs": [
    {
     "name": "stdout",
     "output_type": "stream",
     "text": [
      "start time  of main :  1582169946.12\n",
      "*******\n",
      "*******\n",
      "stop time  of main :  1582169946.12\n",
      "start time  of fun : start time  of fun :   1582169946.14\n",
      "name :  1582169946.14python\n",
      "name :  \n",
      "C\n",
      "name :  pythonname : \n",
      " C\n",
      "name : name :   python\n",
      "C\n",
      "name :  C\n",
      "name :  python\n",
      "name : name :   pythonC\n",
      "\n",
      "name : name :   pythonC\n",
      "\n",
      "name : name :   pythonC\n",
      "\n",
      "name : name :   C\n",
      "python\n",
      "name :  C\n",
      "name :  python\n",
      "name :  C\n",
      "name :  python\n",
      "stop time  of fun :  1582169956.16\n",
      "stop time  of fun :  1582169956.16\n"
     ]
    }
   ],
   "source": [
    "import time\n",
    "import thread\n",
    "print \"start time  of main : \",time.time()\n",
    "def fun(name = \"anjan\"):\n",
    "    print \"start time  of fun : \",time.time()\n",
    "    for i in range(10):\n",
    "        print \"name : \",name\n",
    "        time.sleep(1)\n",
    "    print \"stop time  of fun : \",time.time()\n",
    "thread.start_new_thread(fun,(\"python\",))\n",
    "print \"*******\"\n",
    "thread.start_new_thread(fun,(\"C\",))\n",
    "print \"*******\"\n",
    "print \"stop time  of main : \",time.time()"
   ]
  },
  {
   "cell_type": "code",
   "execution_count": null,
   "metadata": {},
   "outputs": [],
   "source": [
    "# create a file  --> write only number--->> numbers\n",
    "'''\n",
    "Thread1\n",
    "'''\n",
    "# read each number find the each number is prime or not\n",
    "# store the number and result of prime or not into another file\n",
    "'''\n",
    "Thread2\n",
    "'''\n",
    "# read each number find the factorial of a number\n",
    "# store the number and result of factorial  into another file"
   ]
  }
 ],
 "metadata": {
  "kernelspec": {
   "display_name": "Python 2",
   "language": "python",
   "name": "python2"
  },
  "language_info": {
   "codemirror_mode": {
    "name": "ipython",
    "version": 2
   },
   "file_extension": ".py",
   "mimetype": "text/x-python",
   "name": "python",
   "nbconvert_exporter": "python",
   "pygments_lexer": "ipython2",
   "version": "2.7.16"
  }
 },
 "nbformat": 4,
 "nbformat_minor": 2
}
