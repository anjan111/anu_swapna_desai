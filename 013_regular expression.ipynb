{
 "cells": [
  {
   "cell_type": "code",
   "execution_count": 1,
   "metadata": {},
   "outputs": [
    {
     "name": "stdout",
     "output_type": "stream",
     "text": [
      "<_sre.SRE_Match object at 0x00000000051245E0>\n",
      "kumar\n"
     ]
    }
   ],
   "source": [
    "### re --->> module\n",
    "### search\n",
    "### match\n",
    "###findall\n",
    "### sub\n",
    "### compile\n",
    "import re \n",
    "seq = \"anjan kumar python trainer\"\n",
    "print re.search('kumar',seq)\n",
    "print re.search('kumar',seq).group()"
   ]
  },
  {
   "cell_type": "code",
   "execution_count": 1,
   "metadata": {},
   "outputs": [
    {
     "name": "stdout",
     "output_type": "stream",
     "text": [
      "None\n"
     ]
    },
    {
     "ename": "AttributeError",
     "evalue": "'NoneType' object has no attribute 'group'",
     "output_type": "error",
     "traceback": [
      "\u001b[1;31m---------------------------------------------------------------------------\u001b[0m",
      "\u001b[1;31mAttributeError\u001b[0m                            Traceback (most recent call last)",
      "\u001b[1;32m<ipython-input-1-c316ef4dcef5>\u001b[0m in \u001b[0;36m<module>\u001b[1;34m()\u001b[0m\n\u001b[0;32m      2\u001b[0m \u001b[0mseq\u001b[0m \u001b[1;33m=\u001b[0m \u001b[1;34m\"anjan kumar python trainer\"\u001b[0m\u001b[1;33m\u001b[0m\u001b[0m\n\u001b[0;32m      3\u001b[0m \u001b[1;32mprint\u001b[0m \u001b[0mre\u001b[0m\u001b[1;33m.\u001b[0m\u001b[0msearch\u001b[0m\u001b[1;33m(\u001b[0m\u001b[1;34m'kumar1'\u001b[0m\u001b[1;33m,\u001b[0m\u001b[0mseq\u001b[0m\u001b[1;33m)\u001b[0m\u001b[1;33m\u001b[0m\u001b[0m\n\u001b[1;32m----> 4\u001b[1;33m \u001b[1;32mprint\u001b[0m \u001b[0mre\u001b[0m\u001b[1;33m.\u001b[0m\u001b[0msearch\u001b[0m\u001b[1;33m(\u001b[0m\u001b[1;34m'kumar1'\u001b[0m\u001b[1;33m,\u001b[0m\u001b[0mseq\u001b[0m\u001b[1;33m)\u001b[0m\u001b[1;33m.\u001b[0m\u001b[0mgroup\u001b[0m\u001b[1;33m(\u001b[0m\u001b[1;33m)\u001b[0m\u001b[1;33m\u001b[0m\u001b[0m\n\u001b[0m",
      "\u001b[1;31mAttributeError\u001b[0m: 'NoneType' object has no attribute 'group'"
     ]
    }
   ],
   "source": [
    "import re \n",
    "seq = \"anjan kumar python trainer\"\n",
    "print re.search('kumar1',seq)\n",
    "print re.search('kumar1',seq).group()"
   ]
  },
  {
   "cell_type": "code",
   "execution_count": 2,
   "metadata": {},
   "outputs": [
    {
     "name": "stdout",
     "output_type": "stream",
     "text": [
      "None\n"
     ]
    },
    {
     "ename": "AttributeError",
     "evalue": "'NoneType' object has no attribute 'group'",
     "output_type": "error",
     "traceback": [
      "\u001b[1;31m---------------------------------------------------------------------------\u001b[0m",
      "\u001b[1;31mAttributeError\u001b[0m                            Traceback (most recent call last)",
      "\u001b[1;32m<ipython-input-2-bd5c1ad472bb>\u001b[0m in \u001b[0;36m<module>\u001b[1;34m()\u001b[0m\n\u001b[0;32m      2\u001b[0m \u001b[0mseq\u001b[0m \u001b[1;33m=\u001b[0m \u001b[1;34m\"anjan kumar python trainer\"\u001b[0m\u001b[1;33m\u001b[0m\u001b[0m\n\u001b[0;32m      3\u001b[0m \u001b[1;32mprint\u001b[0m \u001b[0mre\u001b[0m\u001b[1;33m.\u001b[0m\u001b[0mmatch\u001b[0m\u001b[1;33m(\u001b[0m\u001b[1;34m'kumar'\u001b[0m\u001b[1;33m,\u001b[0m\u001b[0mseq\u001b[0m\u001b[1;33m)\u001b[0m\u001b[1;33m\u001b[0m\u001b[0m\n\u001b[1;32m----> 4\u001b[1;33m \u001b[1;32mprint\u001b[0m \u001b[0mre\u001b[0m\u001b[1;33m.\u001b[0m\u001b[0mmatch\u001b[0m\u001b[1;33m(\u001b[0m\u001b[1;34m'kumar'\u001b[0m\u001b[1;33m,\u001b[0m\u001b[0mseq\u001b[0m\u001b[1;33m)\u001b[0m\u001b[1;33m.\u001b[0m\u001b[0mgroup\u001b[0m\u001b[1;33m(\u001b[0m\u001b[1;33m)\u001b[0m\u001b[1;33m\u001b[0m\u001b[0m\n\u001b[0m",
      "\u001b[1;31mAttributeError\u001b[0m: 'NoneType' object has no attribute 'group'"
     ]
    }
   ],
   "source": [
    "import re \n",
    "seq = \"anjan kumar python trainer\"\n",
    "print re.match('kumar',seq)\n",
    "print re.match('kumar',seq).group()"
   ]
  },
  {
   "cell_type": "code",
   "execution_count": 3,
   "metadata": {},
   "outputs": [
    {
     "name": "stdout",
     "output_type": "stream",
     "text": [
      "<_sre.SRE_Match object at 0x000000000540A5E0>\n",
      "anjan\n"
     ]
    }
   ],
   "source": [
    "import re \n",
    "seq = \"anjan kumar python trainer\"\n",
    "print re.match('anjan',seq)\n",
    "print re.match('anjan',seq).group()"
   ]
  },
  {
   "cell_type": "code",
   "execution_count": 4,
   "metadata": {},
   "outputs": [
    {
     "name": "stdout",
     "output_type": "stream",
     "text": [
      "['kumar', 'kumar', 'kumar']\n"
     ]
    }
   ],
   "source": [
    "import re \n",
    "seq = \"anjan kumar python kumar trainer kumar\"\n",
    "print re.findall('kumar',seq)\n"
   ]
  },
  {
   "cell_type": "code",
   "execution_count": 5,
   "metadata": {},
   "outputs": [
    {
     "name": "stdout",
     "output_type": "stream",
     "text": [
      "anjan  python trainer\n"
     ]
    }
   ],
   "source": [
    "import re \n",
    "seq = \"anjan kumar python trainer\"\n",
    "print re.sub('kumar','',seq)\n"
   ]
  },
  {
   "cell_type": "code",
   "execution_count": 6,
   "metadata": {},
   "outputs": [
    {
     "name": "stdout",
     "output_type": "stream",
     "text": [
      "<_sre.SRE_Match object at 0x000000000540A8B8>\n",
      "None\n",
      "['kumar']\n",
      "anjan KUMAR python trainer\n"
     ]
    }
   ],
   "source": [
    "import re \n",
    "seq = \"anjan kumar python trainer\"\n",
    "ptr = re.compile('kumar')\n",
    "print ptr.search(seq)\n",
    "print ptr.match(seq)\n",
    "print ptr.findall(seq)\n",
    "print ptr.sub('KUMAR',seq)"
   ]
  },
  {
   "cell_type": "code",
   "execution_count": 9,
   "metadata": {},
   "outputs": [
    {
     "name": "stdout",
     "output_type": "stream",
     "text": [
      "['an', '2n', '@n', ' n']\n"
     ]
    }
   ],
   "source": [
    "# special characters\n",
    "#  . ---> to match the any single character(alphabets , digits , special character)\n",
    "import re\n",
    "seq = \"q an  jf2n dddf@n dk n \"\n",
    "print re.findall('.n',seq)"
   ]
  },
  {
   "cell_type": "code",
   "execution_count": 11,
   "metadata": {},
   "outputs": [
    {
     "name": "stdout",
     "output_type": "stream",
     "text": [
      "['2n', '4n']\n"
     ]
    }
   ],
   "source": [
    "# special characters\n",
    "#  \\d ---> to match the single digit\n",
    "import re\n",
    "seq = \"q an  jf2n dddf@n dk n 424n \"\n",
    "print re.findall('\\dn',seq)"
   ]
  },
  {
   "cell_type": "code",
   "execution_count": 12,
   "metadata": {},
   "outputs": [
    {
     "name": "stdout",
     "output_type": "stream",
     "text": [
      "['an', '@n', ' n']\n"
     ]
    }
   ],
   "source": [
    "# special characters\n",
    "#  \\D ---> to match the any single character except digit\n",
    "import re\n",
    "seq = \"q an  jf2n dddf@n dk n 424n \"\n",
    "print re.findall('\\Dn',seq)"
   ]
  },
  {
   "cell_type": "code",
   "execution_count": 13,
   "metadata": {},
   "outputs": [
    {
     "name": "stdout",
     "output_type": "stream",
     "text": [
      "['an', '2n', '4n']\n"
     ]
    }
   ],
   "source": [
    "# special characters\n",
    "#  \\w ---> to match the single character( only alphabets and digits )\n",
    "import re\n",
    "seq = \"q an  jf2n dddf@n dk n 424n \"\n",
    "print re.findall('\\wn',seq)"
   ]
  },
  {
   "cell_type": "code",
   "execution_count": 14,
   "metadata": {},
   "outputs": [
    {
     "name": "stdout",
     "output_type": "stream",
     "text": [
      "['@n', ' n']\n"
     ]
    }
   ],
   "source": [
    "# special characters\n",
    "#  \\W ---> to match the single character( only special character )\n",
    "import re\n",
    "seq = \"q an  jf2n dddf@n dk n 424n \"\n",
    "print re.findall('\\Wn',seq)"
   ]
  },
  {
   "cell_type": "code",
   "execution_count": 15,
   "metadata": {},
   "outputs": [
    {
     "name": "stdout",
     "output_type": "stream",
     "text": [
      "[' n']\n"
     ]
    }
   ],
   "source": [
    "# special characters\n",
    "#  \\s ---> to match the single space\n",
    "import re\n",
    "seq = \"q an  jf2n dddf@n dk n 424n \"\n",
    "print re.findall('\\sn',seq)"
   ]
  },
  {
   "cell_type": "code",
   "execution_count": 16,
   "metadata": {},
   "outputs": [
    {
     "name": "stdout",
     "output_type": "stream",
     "text": [
      "['an', '2n', '@n', '4n']\n"
     ]
    }
   ],
   "source": [
    "# special characters\n",
    "#  \\S ---> to match the  any single characters except space\n",
    "import re\n",
    "seq = \"q an  jf2n dddf@n dk n 424n \"\n",
    "print re.findall('\\Sn',seq)"
   ]
  },
  {
   "cell_type": "code",
   "execution_count": 17,
   "metadata": {},
   "outputs": [
    {
     "name": "stdout",
     "output_type": "stream",
     "text": [
      "['2n', '@n', ' n']\n"
     ]
    }
   ],
   "source": [
    "# special characters\n",
    "#  [some group of characters] ---> to match the single character from group of character\n",
    "import re\n",
    "seq = \"q an  jf2n dddf@n dk n 424n \"\n",
    "print re.findall('[2 @]n',seq)"
   ]
  },
  {
   "cell_type": "code",
   "execution_count": 19,
   "metadata": {},
   "outputs": [
    {
     "name": "stdout",
     "output_type": "stream",
     "text": [
      "['an', '2n', '@n', ' n', '4n']\n"
     ]
    }
   ],
   "source": [
    "# special characters\n",
    "#  [some group of characters] ---> to match the single character from group of character\n",
    "import re\n",
    "seq = \"q an  jf2n dddf@n dk n 424n \"\n",
    "print re.findall('[0-9a-zA-Z~ !@#$%^&*()]n',seq)"
   ]
  },
  {
   "cell_type": "code",
   "execution_count": 20,
   "metadata": {},
   "outputs": [
    {
     "name": "stdout",
     "output_type": "stream",
     "text": [
      "['aan', 'aan', 'aan']\n"
     ]
    }
   ],
   "source": [
    "# special characters\n",
    "#  {n} -->> preceeding character repeats n times \n",
    "import re\n",
    "seq = \"q aaaaan  jfaaaan dddfaan dk n 424an \"\n",
    "print re.findall('a{2}n',seq)"
   ]
  },
  {
   "cell_type": "code",
   "execution_count": 23,
   "metadata": {},
   "outputs": [
    {
     "name": "stdout",
     "output_type": "stream",
     "text": [
      "['aaaan', 'aaaan', 'aaan', 'aan']\n"
     ]
    }
   ],
   "source": [
    "# special characters\n",
    "#  {m,n} -->> preceeding character repeats in between m and  n times \n",
    "import re\n",
    "seq = \"q aaaaan  jfaaaan dddfaaan dk n 424aan an\"\n",
    "print re.findall('a{2,4}n',seq)"
   ]
  },
  {
   "cell_type": "code",
   "execution_count": 24,
   "metadata": {},
   "outputs": [
    {
     "name": "stdout",
     "output_type": "stream",
     "text": [
      "['aaaaan', 'aaaan', 'aan', 'n', 'an']\n"
     ]
    }
   ],
   "source": [
    "# special characters\n",
    "#  * -->> preceeding character repeats 0 or more than 0 \n",
    "import re\n",
    "seq = \"q aaaaan  jfaaaan dddfaan dk n 424an \"\n",
    "print re.findall('a*n',seq)"
   ]
  },
  {
   "cell_type": "code",
   "execution_count": 25,
   "metadata": {},
   "outputs": [
    {
     "name": "stdout",
     "output_type": "stream",
     "text": [
      "['aaaaan', 'aaaan', 'aan', 'an']\n"
     ]
    }
   ],
   "source": [
    "# special characters\n",
    "#  + -->> preceeding character repeats 1 or more than 1\n",
    "import re\n",
    "seq = \"q aaaaan  jfaaaan dddfaan dk n 424an \"\n",
    "print re.findall('a+n',seq)"
   ]
  },
  {
   "cell_type": "code",
   "execution_count": 26,
   "metadata": {},
   "outputs": [
    {
     "name": "stdout",
     "output_type": "stream",
     "text": [
      "['an', 'an', 'an', 'n', 'an']\n"
     ]
    }
   ],
   "source": [
    "# special characters\n",
    "#  ? -->> preceeding character repeats 0 or 1 time\n",
    "import re\n",
    "seq = \"q aaaaan  jfaaaan dddfaan dk n 424an \"\n",
    "print re.findall('a?n',seq)"
   ]
  },
  {
   "cell_type": "code",
   "execution_count": null,
   "metadata": {},
   "outputs": [],
   "source": [
    "# Tast1 : wap create a file and store 5 line of data --->> sample.txt\n",
    "# Task2 : from sample.txt access all emails and phone nummber \n",
    "# Task3 : The result of Tast2  ( email & phone ) write into new file --> email.txt"
   ]
  },
  {
   "cell_type": "code",
   "execution_count": null,
   "metadata": {},
   "outputs": [],
   "source": []
  }
 ],
 "metadata": {
  "kernelspec": {
   "display_name": "Python 2",
   "language": "python",
   "name": "python2"
  },
  "language_info": {
   "codemirror_mode": {
    "name": "ipython",
    "version": 2
   },
   "file_extension": ".py",
   "mimetype": "text/x-python",
   "name": "python",
   "nbconvert_exporter": "python",
   "pygments_lexer": "ipython2",
   "version": "2.7.16"
  }
 },
 "nbformat": 4,
 "nbformat_minor": 2
}
