{
 "cells": [
  {
   "cell_type": "code",
   "execution_count": 10,
   "metadata": {},
   "outputs": [
    {
     "name": "stdout",
     "output_type": "stream",
     "text": [
      "enter side 1 : 9\n",
      "enter side 2 : 8\n",
      "enter side 3 : 7\n",
      "area :  26.83281573\n",
      "if block over\n"
     ]
    }
   ],
   "source": [
    "#statement\n",
    "'''\n",
    "--->> An instruction which can be executable with in the program\n",
    "'''\n",
    "# program \n",
    "'''\n",
    "-->> Collection of statements to do any one specific task\n",
    "'''\n",
    "# how the program can executes \n",
    "'''\n",
    "statement by statement \n",
    "'''\n",
    "# control statements\n",
    "'''\n",
    "--->> To change the flow of execution of the program\n",
    "---->>>> conditional statements\n",
    "---->>>> looping statements\n",
    "---->>>> control keywords \n",
    "'''\n",
    "# conditional statements\n",
    "'''\n",
    "--->> the execution of statements which can depends on the condition\n",
    "1. simple if\n",
    "2. if and else\n",
    "3. elif ladder\n",
    "4. nested if \n",
    "'''\n",
    "# simple if \n",
    "'''\n",
    "if (Condition ) :\n",
    "    Task\n",
    "    ----\n",
    "    ----\n",
    "    ---\n",
    "\n",
    "'''\n",
    "# wap find the area of triangle when atleast one side is even\n",
    "a = input(\"enter side 1 : \")\n",
    "b = input(\"enter side 2 : \")\n",
    "c = input(\"enter side 3 : \")\n",
    "if ( a % 2 ==0  or b %2 ==0 or c % 2 == 0):\n",
    "    s = float(a+b+c)/2\n",
    "    area = (s* (s-a)*(s-b)*(s-c))** 0.5\n",
    "    print \"area : \",area\n",
    "print \"if block over\""
   ]
  },
  {
   "cell_type": "code",
   "execution_count": 12,
   "metadata": {},
   "outputs": [
    {
     "name": "stdout",
     "output_type": "stream",
     "text": [
      "enter age : 19\n",
      "Applying for voter id \n",
      "enter name : \"anjan\"\n",
      "enter phone : \"37784623742\"\n",
      "enter mail : \"kfkfjf@kg.fkj\"\n",
      "Thanks for visiting \n"
     ]
    }
   ],
   "source": [
    "# wap apply for voter id application  ---> age > 18\n",
    "age = input(\"enter age : \")\n",
    "if(age > 18):\n",
    "    print \"Applying for voter id \"\n",
    "    name = input(\"enter name : \")\n",
    "    phone = input(\"enter phone : \")\n",
    "    mail  = input(\"enter mail : \")\n",
    "print \"Thanks for visiting \""
   ]
  },
  {
   "cell_type": "code",
   "execution_count": null,
   "metadata": {},
   "outputs": [],
   "source": [
    "# wap find the simple intrest when rate of intrest is lessthan 2 %"
   ]
  },
  {
   "cell_type": "code",
   "execution_count": 14,
   "metadata": {},
   "outputs": [
    {
     "name": "stdout",
     "output_type": "stream",
     "text": [
      "enter a : 78\n",
      "enter b : 45\n",
      "a =  78\n"
     ]
    }
   ],
   "source": [
    "# if and else \n",
    "'''\n",
    "if( condition):\n",
    "    Task1\n",
    "else:\n",
    "    Task2\n",
    "'''\n",
    "# wap find the large number from 2 numbers \n",
    "a = input(\"enter a : \")\n",
    "b = input(\"enter b : \")\n",
    "if(a < b):\n",
    "    print \"b = \",b\n",
    "else:\n",
    "    print \"a = \",a"
   ]
  },
  {
   "cell_type": "code",
   "execution_count": 1,
   "metadata": {},
   "outputs": [],
   "source": [
    "# wap find area of square when is side is odd other wise find perimter"
   ]
  },
  {
   "cell_type": "code",
   "execution_count": 3,
   "metadata": {},
   "outputs": [
    {
     "name": "stdout",
     "output_type": "stream",
     "text": [
      "enter exp : 5\n",
      "salary   7L PA\n"
     ]
    }
   ],
   "source": [
    "# elif ladder\n",
    "'''\n",
    "if(c1):\n",
    "    task1\n",
    "elif(c2):\n",
    "    task2\n",
    "elif(c3):\n",
    "    task3\n",
    "elif(c4):\n",
    "    task4\n",
    "\n",
    "---\n",
    "---\n",
    "else:\n",
    "    task\n",
    "'''\n",
    "# wap fix the saalary based on exp\n",
    "exp = input(\"enter exp : \")\n",
    "if(exp < 2):\n",
    "    print 'salary   3L PA'\n",
    "elif(exp < 4):\n",
    "    print 'salary   4L PA'\n",
    "elif(exp < 6):\n",
    "    print 'salary   7L PA'\n",
    "elif(exp < 8):\n",
    "    print 'salary   10L PA'\n",
    "elif(exp < 10):\n",
    "    print 'salary   15L PA'\n",
    "elif(exp < 12):\n",
    "    print 'salary   17L PA'\n",
    "elif(exp < 14):\n",
    "    print 'salary   25L PA'\n",
    "else:\n",
    "    print \"salary 40L PA\""
   ]
  },
  {
   "cell_type": "code",
   "execution_count": null,
   "metadata": {},
   "outputs": [],
   "source": [
    "# wap find the grading system based student percentage\n"
   ]
  },
  {
   "cell_type": "code",
   "execution_count": 7,
   "metadata": {},
   "outputs": [
    {
     "name": "stdout",
     "output_type": "stream",
     "text": [
      "enter a : 89\n",
      "enter b : 45\n",
      "enter c : 78\n",
      "small is b :  45\n"
     ]
    }
   ],
   "source": [
    "# nested if \n",
    "'''\n",
    "one block can contains another blocks\n",
    "'''\n",
    "# wap find smallest number from 3 numbers \n",
    "a = input(\"enter a : \")\n",
    "b = input(\"enter b : \")\n",
    "c = input(\"enter c : \")\n",
    "if(a < b):\n",
    "    if(a < c):\n",
    "        print \"small is a : \",a\n",
    "    else:\n",
    "        print \"small is c : \",c\n",
    "else:\n",
    "    if(b < c):\n",
    "        print \"small is b : \",b\n",
    "    else:\n",
    "        print \"small is c : \",c"
   ]
  },
  {
   "cell_type": "code",
   "execution_count": 8,
   "metadata": {},
   "outputs": [],
   "source": [
    "# wap find biggest number from 3 numbers"
   ]
  },
  {
   "cell_type": "code",
   "execution_count": 13,
   "metadata": {},
   "outputs": [
    {
     "name": "stdout",
     "output_type": "stream",
     "text": [
      "enter data : \"t\"\n",
      "enter character is consonant\n"
     ]
    }
   ],
   "source": [
    "# wap find the given single character is vowel or consonant or digit or specialcharacter\n",
    "# 123 --->> please enter string datatype\n",
    "# \"ae\"--->> please enter single character\n",
    "# 'e'---->> entered character is vowel\n",
    "# 'T'--->> entered characte consonat\n",
    "#'1'---->>  entered character is digit\n",
    "#\" \"--->> entered character space\n",
    "# \"@\"---> enter character is special characcte\n",
    "data = input(\"enter data : \")\n",
    "if(isinstance(data,str)):\n",
    "    if(len(data)==1):\n",
    "        if data in \"AEIOUaeiou\":\n",
    "            print \"enter character is vowel\"\n",
    "        elif(data.isdigit()):\n",
    "            print\"penter character is digit\"\n",
    "        elif(not(data.isalnum())):\n",
    "            if(data == \" \"):\n",
    "                print \"enter character is space \"\n",
    "            else:\n",
    "                print \"enter character is special \"\n",
    "        else:\n",
    "            print \"enter character is consonant\"\n",
    "    else:\n",
    "        print \"please enter single character\"\n",
    "else:\n",
    "    print\"please enter str data\""
   ]
  },
  {
   "cell_type": "code",
   "execution_count": 1,
   "metadata": {},
   "outputs": [
    {
     "name": "stdout",
     "output_type": "stream",
     "text": [
      "i :  1\n",
      "i :  2\n",
      "i :  3\n",
      "i :  4\n",
      "i :  5\n",
      "i :  6\n",
      "i :  7\n",
      "i :  8\n",
      "i :  9\n",
      "i :  10\n",
      "while condition is failed\n",
      "while block over\n"
     ]
    }
   ],
   "source": [
    "# looping statements \n",
    "'''\n",
    "--->> to execute  a task continuosly\n",
    "\n",
    "1. while\n",
    "2. for \n",
    "'''\n",
    "# while loop\n",
    "'''\n",
    "while--->> check the condition  ( True / false)\n",
    "--> if the condition is true then execute the task , then again the check the condtion\n",
    "-->if the condition is false then else block can execute\n",
    "\n",
    "while( Condition):\n",
    "    Task\n",
    "    ----\n",
    "    ----\n",
    "else:\n",
    "    task\n",
    "    -----\n",
    "    ----\n",
    "    \n",
    "'''\n",
    "# wap print 1 to 10\n",
    "i = 1\n",
    "while(i <= 10):\n",
    "    print \"i : \",i\n",
    "    i = i+1\n",
    "else:\n",
    "    print \"while condition is failed\"\n",
    "print\"while block over\""
   ]
  },
  {
   "cell_type": "code",
   "execution_count": 3,
   "metadata": {},
   "outputs": [
    {
     "name": "stdout",
     "output_type": "stream",
     "text": [
      "enter N20\n",
      "i :  1\n",
      "i :  2\n",
      "i :  3\n",
      "i :  4\n",
      "i :  5\n",
      "i :  6\n",
      "i :  7\n",
      "i :  8\n",
      "i :  9\n",
      "i :  10\n",
      "i :  11\n",
      "i :  12\n",
      "i :  13\n",
      "i :  14\n",
      "i :  15\n",
      "i :  16\n",
      "i :  17\n",
      "i :  18\n",
      "i :  19\n",
      "i :  20\n",
      "while condition is failed\n",
      "while block over\n"
     ]
    }
   ],
   "source": [
    "# wap print 1st N natural number\n",
    "i = 1\n",
    "N = input(\"enter N\")\n",
    "while(i <= N):\n",
    "    print \"i : \",i\n",
    "    i = i+1\n",
    "else:\n",
    "    print \"while condition is failed\"\n",
    "print\"while block over\""
   ]
  },
  {
   "cell_type": "code",
   "execution_count": 4,
   "metadata": {},
   "outputs": [
    {
     "name": "stdout",
     "output_type": "stream",
     "text": [
      "enter N10\n",
      "sum of 1st  10  natural numbers is :  55\n",
      "while block over\n"
     ]
    }
   ],
   "source": [
    "# wap sum of 1st n natural number\n",
    "i = 1\n",
    "sum = 0\n",
    "N = input(\"enter N\")\n",
    "while(i <= N):\n",
    "    #print \"i : \",i\n",
    "    sum = sum +i\n",
    "    i = i+1\n",
    "else:\n",
    "    print \"sum of 1st \",N,\" natural numbers is : \",sum\n",
    "print\"while block over\""
   ]
  },
  {
   "cell_type": "code",
   "execution_count": null,
   "metadata": {},
   "outputs": [],
   "source": [
    "# wap find the sum of sqaure of 1st n natural numbers\n",
    "# 1**2 + 2 **2 + 3**2 + 4 **2 + 5**2 ------------>\n",
    "\n",
    "i = 1\n",
    "sum = 0\n",
    "N = input(\"enter N\")\n",
    "while(i <= N):\n",
    "    #print \"i : \",i\n",
    "    sum = sum +i\n",
    "    i = i+1\n",
    "else:\n",
    "    print \"sum of 1st \",N,\" natural numbers is : \",sum\n",
    "print\"while block over\""
   ]
  },
  {
   "cell_type": "code",
   "execution_count": 5,
   "metadata": {},
   "outputs": [
    {
     "name": "stdout",
     "output_type": "stream",
     "text": [
      "enter : 10\n",
      "enter  : 35\n",
      "even :  10\n",
      "even :  12\n",
      "even :  14\n",
      "even :  16\n",
      "even :  18\n",
      "even :  20\n",
      "even :  22\n",
      "even :  24\n",
      "even :  26\n",
      "even :  28\n",
      "even :  30\n",
      "even :  32\n",
      "even :  34\n",
      "no of even numbers :  13\n"
     ]
    }
   ],
   "source": [
    "# wap print the even numbers and print total number of even numbers from 10 to 35\n",
    "N1 = input(\"enter : \")\n",
    "N2 = input(\"enter  : \")\n",
    "i = N1\n",
    "count = 0\n",
    "while(i <= N2):\n",
    "    if(i % 2 ==0):\n",
    "        print \"even : \",i\n",
    "        count = count +1\n",
    "    i = i +1\n",
    "else:\n",
    "    print \"no of even numbers : \",count"
   ]
  },
  {
   "cell_type": "code",
   "execution_count": 6,
   "metadata": {},
   "outputs": [
    {
     "name": "stdout",
     "output_type": "stream",
     "text": [
      "enter  : 10\n",
      "factor :  1\n",
      "factor :  2\n",
      "factor :  5\n",
      "factor :  10\n",
      "no of factor numbers :  4\n"
     ]
    }
   ],
   "source": [
    "# wap find facots of a number and print the no of factor of a number\n",
    "\n",
    "N2 = input(\"enter  : \")\n",
    "i = 1\n",
    "count = 0\n",
    "while(i <= N2):\n",
    "    if(N2 % i ==0):\n",
    "        print \"factor : \",i\n",
    "        count = count +1\n",
    "    i = i +1\n",
    "else:\n",
    "    print \"no of factor numbers : \",count"
   ]
  },
  {
   "cell_type": "code",
   "execution_count": 8,
   "metadata": {},
   "outputs": [
    {
     "name": "stdout",
     "output_type": "stream",
     "text": [
      "enter  : 5\n",
      "factor :  1\n",
      "factor :  5\n",
      "no of factor numbers :  2\n",
      "its prime number\n"
     ]
    }
   ],
   "source": [
    "# wap find the given number is prime number or not\n",
    "N2 = input(\"enter  : \")\n",
    "i = 1\n",
    "count = 0\n",
    "while(i <= N2):\n",
    "    if(N2 % i ==0):\n",
    "        print \"factor : \",i\n",
    "        count = count +1\n",
    "    i = i +1\n",
    "else:\n",
    "    print \"no of factor numbers : \",count\n",
    "    \n",
    "if(count == 2):\n",
    "    print \"its prime number\"\n",
    "else:\n",
    "    print \"not a prime number\""
   ]
  },
  {
   "cell_type": "code",
   "execution_count": null,
   "metadata": {},
   "outputs": [],
   "source": [
    "#wap find the no of digits in a number\n",
    "# wap find the sum of digits in a number\n",
    "# wap find the reverse of a number\n",
    "# wap find the given number is palidrome or not\n",
    "# wap generate 1st 10 fibonic seriies  elements 0  1   1   2   3   5   8------\n",
    "#wap factorial of a number\n"
   ]
  }
 ],
 "metadata": {
  "kernelspec": {
   "display_name": "Python 2",
   "language": "python",
   "name": "python2"
  },
  "language_info": {
   "codemirror_mode": {
    "name": "ipython",
    "version": 2
   },
   "file_extension": ".py",
   "mimetype": "text/x-python",
   "name": "python",
   "nbconvert_exporter": "python",
   "pygments_lexer": "ipython2",
   "version": "2.7.16"
  }
 },
 "nbformat": 4,
 "nbformat_minor": 2
}
