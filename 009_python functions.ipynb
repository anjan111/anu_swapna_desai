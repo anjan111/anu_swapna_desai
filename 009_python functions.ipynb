{
 "cells": [
  {
   "cell_type": "markdown",
   "metadata": {},
   "source": [
    "####  functions\n",
    "\n",
    "--->> collection of statements to do any one specific task\n",
    "\n",
    "--->> There are 2 types \n",
    "\n",
    "1. Pre defined function --->> which are already defined function\n",
    "\n",
    "2. User defined function --->> programmer defined functions\n",
    "\n",
    "--->> To Reduce code size\n",
    "\n",
    "--->> we need two components\n",
    "\n",
    "1. function defination  --->> collectio of statements\n",
    "\n",
    "    def fun_name():\n",
    "        \n",
    "        task\n",
    "        \n",
    "        ----\n",
    "        \n",
    "        ----\n",
    "\n",
    "2. function call --->> to execute the function defination\n",
    "\n",
    "fun_name()\n",
    "\n"
   ]
  },
  {
   "cell_type": "code",
   "execution_count": 1,
   "metadata": {},
   "outputs": [
    {
     "name": "stdout",
     "output_type": "stream",
     "text": [
      "name : anjan\n",
      "mail : jkjsdkja@gm.com\n",
      "phone: 346324354675\n",
      " ******* \n",
      "name : anjan\n",
      "mail : jkjsdkja@gm.com\n",
      "phone: 346324354675\n",
      "---------\n",
      "name : anjan\n",
      "mail : jkjsdkja@gm.com\n",
      "phone: 346324354675\n",
      "////////////\n",
      "name : anjan\n",
      "mail : jkjsdkja@gm.com\n",
      "phone: 346324354675\n",
      "+++++++++++++++++++\n",
      "name : anjan\n",
      "mail : jkjsdkja@gm.com\n",
      "phone: 346324354675\n"
     ]
    }
   ],
   "source": [
    "# wap print your details \n",
    "\n",
    "print \"name : anjan\"\n",
    "print \"mail : jkjsdkja@gm.com\"\n",
    "print \"phone: 346324354675\"\n",
    "\n",
    "print \" ******* \"\n",
    "print \"name : anjan\"\n",
    "print \"mail : jkjsdkja@gm.com\"\n",
    "print \"phone: 346324354675\"\n",
    "print \"---------\"\n",
    "print \"name : anjan\"\n",
    "print \"mail : jkjsdkja@gm.com\"\n",
    "print \"phone: 346324354675\"\n",
    "print \"////////////\"\n",
    "print \"name : anjan\"\n",
    "print \"mail : jkjsdkja@gm.com\"\n",
    "print \"phone: 346324354675\"\n",
    "print \"+++++++++++++++++++\"\n",
    "print \"name : anjan\"\n",
    "print \"mail : jkjsdkja@gm.com\"\n",
    "print \"phone: 346324354675\""
   ]
  },
  {
   "cell_type": "code",
   "execution_count": 2,
   "metadata": {},
   "outputs": [
    {
     "name": "stdout",
     "output_type": "stream",
     "text": [
      "name : anjan\n",
      "mail : jkjsdkja@gm.com\n",
      "phone: 346324354675\n",
      " ******* \n",
      "name : anjan\n",
      "mail : jkjsdkja@gm.com\n",
      "phone: 346324354675\n",
      "---------\n",
      "name : anjan\n",
      "mail : jkjsdkja@gm.com\n",
      "phone: 346324354675\n",
      "////////////\n",
      "name : anjan\n",
      "mail : jkjsdkja@gm.com\n",
      "phone: 346324354675\n",
      "+++++++++++++++++++\n",
      "name : anjan\n",
      "mail : jkjsdkja@gm.com\n",
      "phone: 346324354675\n"
     ]
    }
   ],
   "source": [
    "# wap print your details \n",
    "def details():\n",
    "    print \"name : anjan\"\n",
    "    print \"mail : jkjsdkja@gm.com\"\n",
    "    print \"phone: 346324354675\"\n",
    "\n",
    "details() # function call\n",
    "print \" ******* \"\n",
    "details()# function call\n",
    "print \"---------\"\n",
    "details()# function call\n",
    "print \"////////////\"\n",
    "details()# function call\n",
    "print \"+++++++++++++++++++\"\n",
    "details()# function call"
   ]
  },
  {
   "cell_type": "code",
   "execution_count": 3,
   "metadata": {},
   "outputs": [
    {
     "name": "stdout",
     "output_type": "stream",
     "text": [
      "10\n"
     ]
    }
   ],
   "source": [
    "# function arguments\n",
    "'''\n",
    "To sending arguments ( parameter , data) from function call to function defination\n",
    "\n",
    "'''\n",
    "def fun(x):\n",
    "    print x\n",
    "    \n",
    "fun(10)# function call"
   ]
  },
  {
   "cell_type": "code",
   "execution_count": 4,
   "metadata": {},
   "outputs": [
    {
     "name": "stdout",
     "output_type": "stream",
     "text": [
      "100\n"
     ]
    }
   ],
   "source": [
    "def fun(x):\n",
    "    print x\n",
    "b = 100   \n",
    "fun(b)# function call"
   ]
  },
  {
   "cell_type": "code",
   "execution_count": 5,
   "metadata": {},
   "outputs": [
    {
     "name": "stdout",
     "output_type": "stream",
     "text": [
      "14\n"
     ]
    }
   ],
   "source": [
    "def fun(x):\n",
    "    print x\n",
    "    \n",
    "fun(10*1+3+1)# function call"
   ]
  },
  {
   "cell_type": "code",
   "execution_count": 6,
   "metadata": {},
   "outputs": [
    {
     "ename": "TypeError",
     "evalue": "fun() takes exactly 1 argument (0 given)",
     "output_type": "error",
     "traceback": [
      "\u001b[1;31m---------------------------------------------------------------------------\u001b[0m",
      "\u001b[1;31mTypeError\u001b[0m                                 Traceback (most recent call last)",
      "\u001b[1;32m<ipython-input-6-d2a80cdb9c37>\u001b[0m in \u001b[0;36m<module>\u001b[1;34m()\u001b[0m\n\u001b[0;32m      6\u001b[0m \u001b[1;32mdef\u001b[0m \u001b[0mfun\u001b[0m\u001b[1;33m(\u001b[0m\u001b[0mX\u001b[0m\u001b[1;33m)\u001b[0m\u001b[1;33m:\u001b[0m\u001b[1;33m\u001b[0m\u001b[0m\n\u001b[0;32m      7\u001b[0m     \u001b[1;32mprint\u001b[0m \u001b[0mX\u001b[0m\u001b[1;33m\u001b[0m\u001b[0m\n\u001b[1;32m----> 8\u001b[1;33m \u001b[0mfun\u001b[0m\u001b[1;33m(\u001b[0m\u001b[1;33m)\u001b[0m\u001b[1;33m\u001b[0m\u001b[0m\n\u001b[0m",
      "\u001b[1;31mTypeError\u001b[0m: fun() takes exactly 1 argument (0 given)"
     ]
    }
   ],
   "source": [
    "# default arguments\n",
    "'''\n",
    "even if we are not sending the data from function call it can assign  default data\n",
    "'''\n",
    "\n",
    "def fun(X):\n",
    "    print X\n",
    "fun()"
   ]
  },
  {
   "cell_type": "code",
   "execution_count": 7,
   "metadata": {},
   "outputs": [
    {
     "name": "stdout",
     "output_type": "stream",
     "text": [
      "123\n"
     ]
    }
   ],
   "source": [
    "def fun(X = 123):\n",
    "    print X\n",
    "fun()"
   ]
  },
  {
   "cell_type": "code",
   "execution_count": 8,
   "metadata": {},
   "outputs": [
    {
     "name": "stdout",
     "output_type": "stream",
     "text": [
      "None\n"
     ]
    }
   ],
   "source": [
    "def fun(X = None):\n",
    "    print X\n",
    "fun()"
   ]
  },
  {
   "cell_type": "code",
   "execution_count": 9,
   "metadata": {},
   "outputs": [
    {
     "name": "stdout",
     "output_type": "stream",
     "text": [
      "123\n",
      "1\n"
     ]
    }
   ],
   "source": [
    "def fun(X = 123):\n",
    "    print X\n",
    "fun()\n",
    "fun(1)"
   ]
  },
  {
   "cell_type": "code",
   "execution_count": 10,
   "metadata": {},
   "outputs": [
    {
     "name": "stdout",
     "output_type": "stream",
     "text": [
      "123\n"
     ]
    }
   ],
   "source": [
    "# return keyword\n",
    "'''\n",
    "1. to terminate function\n",
    "2. to return the data from function def to fun call\n",
    "'''\n",
    "def fun(X = 123):\n",
    "    print X\n",
    "    return\n",
    "    print \"hello\"\n",
    "fun()"
   ]
  },
  {
   "cell_type": "code",
   "execution_count": 11,
   "metadata": {},
   "outputs": [
    {
     "name": "stdout",
     "output_type": "stream",
     "text": [
      "123\n",
      "123\n",
      "12\n",
      "12\n"
     ]
    }
   ],
   "source": [
    "def fun(X = 123):\n",
    "    print X\n",
    "    return X\n",
    "    print \"hello\"\n",
    "a = fun()\n",
    "print a\n",
    "b = fun(12)\n",
    "print b"
   ]
  },
  {
   "cell_type": "code",
   "execution_count": 12,
   "metadata": {},
   "outputs": [
    {
     "name": "stdout",
     "output_type": "stream",
     "text": [
      "12\n"
     ]
    },
    {
     "ename": "NameError",
     "evalue": "name 'y' is not defined",
     "output_type": "error",
     "traceback": [
      "\u001b[1;31m---------------------------------------------------------------------------\u001b[0m",
      "\u001b[1;31mNameError\u001b[0m                                 Traceback (most recent call last)",
      "\u001b[1;32m<ipython-input-12-3ce4490543cb>\u001b[0m in \u001b[0;36m<module>\u001b[1;34m()\u001b[0m\n\u001b[0;32m      9\u001b[0m \u001b[1;33m\u001b[0m\u001b[0m\n\u001b[0;32m     10\u001b[0m \u001b[0mfun\u001b[0m\u001b[1;33m(\u001b[0m\u001b[1;33m)\u001b[0m\u001b[1;33m\u001b[0m\u001b[0m\n\u001b[1;32m---> 11\u001b[1;33m \u001b[1;32mprint\u001b[0m \u001b[0my\u001b[0m\u001b[1;33m\u001b[0m\u001b[0m\n\u001b[0m",
      "\u001b[1;31mNameError\u001b[0m: name 'y' is not defined"
     ]
    }
   ],
   "source": [
    "# global variables\n",
    "'''\n",
    "--->> the scope & life time  of variable  throughout of program\n",
    "\n",
    "'''\n",
    "# local varaibles\n",
    "'''\n",
    "--->> the scope & life time  of variable with in the blocks\n",
    "'''\n",
    "def fun():\n",
    "    y = 12 # local variable\n",
    "    print y\n",
    "\n",
    "fun()\n",
    "print y"
   ]
  },
  {
   "cell_type": "code",
   "execution_count": 13,
   "metadata": {},
   "outputs": [
    {
     "name": "stdout",
     "output_type": "stream",
     "text": [
      "12\n",
      "12\n"
     ]
    }
   ],
   "source": [
    "def fun():\n",
    "    global y # y is global variable\n",
    "    y = 12 \n",
    "    print y\n",
    "\n",
    "fun()\n",
    "print y"
   ]
  },
  {
   "cell_type": "code",
   "execution_count": 15,
   "metadata": {},
   "outputs": [
    {
     "name": "stdout",
     "output_type": "stream",
     "text": [
      "456\n",
      "456\n"
     ]
    }
   ],
   "source": [
    "# variable are defined out side of the function block then default its global variable\n",
    "\n",
    "y = 456 # defaulty global variable\n",
    "\n",
    "def fun():\n",
    "    print y\n",
    "\n",
    "fun()\n",
    "print y\n"
   ]
  },
  {
   "cell_type": "code",
   "execution_count": 17,
   "metadata": {},
   "outputs": [
    {
     "name": "stdout",
     "output_type": "stream",
     "text": [
      "(10, 20, 45, 23, 45)\n"
     ]
    }
   ],
   "source": [
    "# packing \n",
    "\n",
    "def fun(*x):\n",
    "    print x\n",
    "\n",
    "fun(10,20,45,23,45)\n"
   ]
  },
  {
   "cell_type": "code",
   "execution_count": 19,
   "metadata": {},
   "outputs": [
    {
     "name": "stdout",
     "output_type": "stream",
     "text": [
      "10\n",
      "20\n",
      "45\n",
      "23\n",
      "45\n"
     ]
    }
   ],
   "source": [
    "# unpacking packing \n",
    "\n",
    "def fun(x0,x1,x2,x3,x4):\n",
    "    print x0\n",
    "    print x1\n",
    "    print x2\n",
    "    print x3\n",
    "    print x4\n",
    "a = [10,20,45,23,45]\n",
    "fun(*a)"
   ]
  },
  {
   "cell_type": "code",
   "execution_count": null,
   "metadata": {},
   "outputs": [],
   "source": [
    "# waf for finding given nubmber is prime or not\n",
    "# waf generate only prime numbers in between 10 to 30"
   ]
  },
  {
   "cell_type": "code",
   "execution_count": null,
   "metadata": {},
   "outputs": [],
   "source": []
  },
  {
   "cell_type": "code",
   "execution_count": null,
   "metadata": {},
   "outputs": [],
   "source": []
  }
 ],
 "metadata": {
  "kernelspec": {
   "display_name": "Python 2",
   "language": "python",
   "name": "python2"
  },
  "language_info": {
   "codemirror_mode": {
    "name": "ipython",
    "version": 2
   },
   "file_extension": ".py",
   "mimetype": "text/x-python",
   "name": "python",
   "nbconvert_exporter": "python",
   "pygments_lexer": "ipython2",
   "version": "2.7.16"
  }
 },
 "nbformat": 4,
 "nbformat_minor": 2
}
