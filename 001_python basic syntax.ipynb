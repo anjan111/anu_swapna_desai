{
 "cells": [
  {
   "cell_type": "code",
   "execution_count": 1,
   "metadata": {},
   "outputs": [
    {
     "name": "stdout",
     "output_type": "stream",
     "text": [
      "hai\n",
      "bye\n"
     ]
    }
   ],
   "source": [
    "# single line comment\n",
    "'''\n",
    "this is\n",
    "multiline \n",
    "comment\n",
    "'''\n",
    "print \"hai\"# statement\n",
    "print \"bye\"#statement"
   ]
  },
  {
   "cell_type": "code",
   "execution_count": 5,
   "metadata": {},
   "outputs": [
    {
     "name": "stdout",
     "output_type": "stream",
     "text": [
      "['and', 'as', 'assert', 'break', 'class', 'continue', 'def', 'del', 'elif', 'else', 'except', 'exec', 'finally', 'for', 'from', 'global', 'if', 'import', 'in', 'is', 'lambda', 'not', 'or', 'pass', 'print', 'raise', 'return', 'try', 'while', 'with', 'yield']\n",
      "True\n"
     ]
    }
   ],
   "source": [
    "#keywords \n",
    "'''\n",
    "--->> which are predefined words\n",
    "--->> which are used for to do any one specific task\n",
    "'''\n",
    "import keyword\n",
    "print keyword.kwlist\n",
    "# python2 --->> print is keyword\n",
    "# python3 --->> print is function\n",
    "print keyword.iskeyword(\"print\")"
   ]
  },
  {
   "cell_type": "code",
   "execution_count": 6,
   "metadata": {},
   "outputs": [
    {
     "name": "stdout",
     "output_type": "stream",
     "text": [
      "123\n"
     ]
    }
   ],
   "source": [
    "# identifier \n",
    "'''\n",
    "--->> user defined words \n",
    "--->> to give the names for variables , functions , classes \n",
    "'''\n",
    "# rules \n",
    "'''\n",
    "--->> we can alphabets  a-z / A-Z\n",
    "--->> we can digits 0-9\n",
    "--->> we can use  underscore _\n",
    "--->> don't start with digit  \n",
    "--->> don't use keywords\n",
    "--->> don't use special character\n",
    "'''\n",
    "# variable\n",
    "'''\n",
    "-->> A name which is used for to give the storage location of the data\n",
    "--->> we can direclty assign the data to variable \n",
    "'''\n",
    "var =123\n",
    "print var"
   ]
  },
  {
   "cell_type": "code",
   "execution_count": 7,
   "metadata": {},
   "outputs": [
    {
     "name": "stdout",
     "output_type": "stream",
     "text": [
      "34.345\n"
     ]
    }
   ],
   "source": [
    "var = 34.345\n",
    "print var"
   ]
  },
  {
   "cell_type": "code",
   "execution_count": 8,
   "metadata": {},
   "outputs": [
    {
     "name": "stdout",
     "output_type": "stream",
     "text": [
      "234\n"
     ]
    }
   ],
   "source": [
    "VAr_12 = 234\n",
    "print VAr_12"
   ]
  },
  {
   "cell_type": "code",
   "execution_count": 9,
   "metadata": {},
   "outputs": [
    {
     "ename": "SyntaxError",
     "evalue": "invalid syntax (<ipython-input-9-d62389fc12c6>, line 1)",
     "output_type": "error",
     "traceback": [
      "\u001b[1;36m  File \u001b[1;32m\"<ipython-input-9-d62389fc12c6>\"\u001b[1;36m, line \u001b[1;32m1\u001b[0m\n\u001b[1;33m    4var =23\u001b[0m\n\u001b[1;37m       ^\u001b[0m\n\u001b[1;31mSyntaxError\u001b[0m\u001b[1;31m:\u001b[0m invalid syntax\n"
     ]
    }
   ],
   "source": [
    "4var =23"
   ]
  },
  {
   "cell_type": "code",
   "execution_count": 10,
   "metadata": {},
   "outputs": [
    {
     "ename": "SyntaxError",
     "evalue": "invalid syntax (<ipython-input-10-b47934d4831f>, line 1)",
     "output_type": "error",
     "traceback": [
      "\u001b[1;36m  File \u001b[1;32m\"<ipython-input-10-b47934d4831f>\"\u001b[1;36m, line \u001b[1;32m1\u001b[0m\n\u001b[1;33m    while =234\u001b[0m\n\u001b[1;37m          ^\u001b[0m\n\u001b[1;31mSyntaxError\u001b[0m\u001b[1;31m:\u001b[0m invalid syntax\n"
     ]
    }
   ],
   "source": [
    "while =234"
   ]
  },
  {
   "cell_type": "code",
   "execution_count": 11,
   "metadata": {},
   "outputs": [
    {
     "ename": "SyntaxError",
     "evalue": "invalid syntax (<ipython-input-11-cee98cd386ee>, line 1)",
     "output_type": "error",
     "traceback": [
      "\u001b[1;36m  File \u001b[1;32m\"<ipython-input-11-cee98cd386ee>\"\u001b[1;36m, line \u001b[1;32m1\u001b[0m\n\u001b[1;33m    v@r =13\u001b[0m\n\u001b[1;37m     ^\u001b[0m\n\u001b[1;31mSyntaxError\u001b[0m\u001b[1;31m:\u001b[0m invalid syntax\n"
     ]
    }
   ],
   "source": [
    "v@r =13"
   ]
  },
  {
   "cell_type": "code",
   "execution_count": 12,
   "metadata": {},
   "outputs": [
    {
     "name": "stdout",
     "output_type": "stream",
     "text": [
      "123\n",
      "memory loc :  37257312\n",
      "<type 'int'>\n"
     ]
    }
   ],
   "source": [
    "# data types \n",
    "'''\n",
    "--->> to specify what type od data holded by variable\n",
    "'''\n",
    "# 2 types\n",
    "# type() ---->>> to know the datatype\n",
    "# id() ----->>> to know memory loc\n",
    "# fundamental dataatype\n",
    "'''\n",
    "--->>> A single variable can hold single data \n",
    "1. int ---->>> real numbers\n",
    "2. float --->> real point number\n",
    "3. complex-->  real + img ---->> x +  yj\n",
    "4. bool   ---> True / False\n",
    "5. Nonetype -> None\n",
    "\n",
    "'''\n",
    "var = 123\n",
    "print var\n",
    "print \"memory loc : \", id(var)\n",
    "print type(var)\n"
   ]
  },
  {
   "cell_type": "code",
   "execution_count": 13,
   "metadata": {},
   "outputs": [
    {
     "name": "stdout",
     "output_type": "stream",
     "text": [
      "12.54545\n",
      "memory loc :  65265448\n",
      "<type 'float'>\n"
     ]
    }
   ],
   "source": [
    "var = 12.54545\n",
    "print var\n",
    "print \"memory loc : \", id(var)\n",
    "print type(var)\n"
   ]
  },
  {
   "cell_type": "code",
   "execution_count": 14,
   "metadata": {},
   "outputs": [
    {
     "name": "stdout",
     "output_type": "stream",
     "text": [
      "(12+3j)\n",
      "memory loc :  65771856\n",
      "<type 'complex'>\n"
     ]
    }
   ],
   "source": [
    "var = 12 + 3j\n",
    "print var\n",
    "print \"memory loc : \", id(var)\n",
    "print type(var)\n"
   ]
  },
  {
   "cell_type": "code",
   "execution_count": 15,
   "metadata": {},
   "outputs": [
    {
     "name": "stdout",
     "output_type": "stream",
     "text": [
      "True\n",
      "memory loc :  1731706600\n",
      "<type 'bool'>\n"
     ]
    }
   ],
   "source": [
    "var = True\n",
    "print var\n",
    "print \"memory loc : \", id(var)\n",
    "print type(var)\n"
   ]
  },
  {
   "cell_type": "code",
   "execution_count": 16,
   "metadata": {},
   "outputs": [
    {
     "name": "stdout",
     "output_type": "stream",
     "text": [
      "False\n",
      "memory loc :  1731706184\n",
      "<type 'bool'>\n"
     ]
    }
   ],
   "source": [
    "var = False\n",
    "print var\n",
    "print \"memory loc : \", id(var)\n",
    "print type(var)\n"
   ]
  },
  {
   "cell_type": "code",
   "execution_count": 17,
   "metadata": {},
   "outputs": [
    {
     "name": "stdout",
     "output_type": "stream",
     "text": [
      "None\n",
      "memory loc :  1731660920\n",
      "<type 'NoneType'>\n"
     ]
    }
   ],
   "source": [
    "var = None\n",
    "print var\n",
    "print \"memory loc : \", id(var)\n",
    "print type(var)\n"
   ]
  },
  {
   "cell_type": "code",
   "execution_count": 18,
   "metadata": {},
   "outputs": [
    {
     "name": "stdout",
     "output_type": "stream",
     "text": [
      "<type 'str'>\n"
     ]
    }
   ],
   "source": [
    "# seqeuncail Datatype\n",
    "'''\n",
    "--->> A single variable can hold multiple data elements\n",
    "str --->> \"\"\n",
    "list-->>  [e1,e2,e3]\n",
    "tuple --> (e1,e2,e3)\n",
    "set ----> {k1,k2,k3}\n",
    "dict -->> {k : v , k: v}\n",
    "\n",
    "'''\n",
    "var = \"soc\"\n",
    "print type(var)"
   ]
  },
  {
   "cell_type": "code",
   "execution_count": 19,
   "metadata": {},
   "outputs": [
    {
     "name": "stdout",
     "output_type": "stream",
     "text": [
      "<type 'list'>\n"
     ]
    }
   ],
   "source": [
    "var = [12,3.45,4+3j]\n",
    "print type(var)"
   ]
  },
  {
   "cell_type": "code",
   "execution_count": 20,
   "metadata": {},
   "outputs": [
    {
     "name": "stdout",
     "output_type": "stream",
     "text": [
      "<type 'tuple'>\n"
     ]
    }
   ],
   "source": [
    "var = (12,34.45)\n",
    "print type(var)"
   ]
  },
  {
   "cell_type": "code",
   "execution_count": 22,
   "metadata": {},
   "outputs": [
    {
     "name": "stdout",
     "output_type": "stream",
     "text": [
      "<type 'set'>\n"
     ]
    }
   ],
   "source": [
    "var = {12,4,5}\n",
    "print type(var)"
   ]
  },
  {
   "cell_type": "code",
   "execution_count": 23,
   "metadata": {},
   "outputs": [
    {
     "name": "stdout",
     "output_type": "stream",
     "text": [
      "<type 'dict'>\n"
     ]
    }
   ],
   "source": [
    "var = {12 : \"soc\" , 34 : \"soft\"}\n",
    "print type(var)"
   ]
  },
  {
   "cell_type": "code",
   "execution_count": null,
   "metadata": {},
   "outputs": [],
   "source": []
  },
  {
   "cell_type": "code",
   "execution_count": null,
   "metadata": {},
   "outputs": [],
   "source": []
  },
  {
   "cell_type": "code",
   "execution_count": null,
   "metadata": {},
   "outputs": [],
   "source": []
  }
 ],
 "metadata": {
  "kernelspec": {
   "display_name": "Python 2",
   "language": "python",
   "name": "python2"
  },
  "language_info": {
   "codemirror_mode": {
    "name": "ipython",
    "version": 2
   },
   "file_extension": ".py",
   "mimetype": "text/x-python",
   "name": "python",
   "nbconvert_exporter": "python",
   "pygments_lexer": "ipython2",
   "version": "2.7.16"
  }
 },
 "nbformat": 4,
 "nbformat_minor": 2
}
